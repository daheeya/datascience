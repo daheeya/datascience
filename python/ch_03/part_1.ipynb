{
 "cells": [
  {
   "cell_type": "markdown",
   "metadata": {},
   "source": [
    "# 웹 크롤링\n",
    "웹 애플리케이션 테스트 하기 위한 도구  \n",
    "- selenium\n",
    "\n",
    "! pip install selenium\n",
    "\n",
    "Html, Xml 문서를 구문 분석하고 데이터를 추출하는 도구   \n",
    "- BeautifulSoup\n",
    "Chrome Driver 설치\n",
    "! pip install chromedriver-autoinstaller"
   ]
  },
  {
   "cell_type": "code",
   "execution_count": 39,
   "metadata": {},
   "outputs": [
    {
     "name": "stdout",
     "output_type": "stream",
     "text": [
      "Requirement already satisfied: chromedriver-autoinstaller in c:\\users\\owner\\appdata\\local\\programs\\python\\python310\\lib\\site-packages (0.6.4)\n",
      "Requirement already satisfied: packaging>=23.1 in c:\\users\\owner\\appdata\\roaming\\python\\python310\\site-packages (from chromedriver-autoinstaller) (23.2)\n"
     ]
    },
    {
     "name": "stderr",
     "output_type": "stream",
     "text": [
      "\n",
      "[notice] A new release of pip is available: 23.0.1 -> 24.0\n",
      "[notice] To update, run: python.exe -m pip install --upgrade pip\n"
     ]
    }
   ],
   "source": [
    "! pip install chromedriver-autoinstaller"
   ]
  },
  {
   "cell_type": "code",
   "execution_count": 40,
   "metadata": {},
   "outputs": [
    {
     "data": {
      "text/plain": [
       "'c:\\\\Users\\\\OWNER\\\\AppData\\\\Local\\\\Programs\\\\Python\\\\Python310\\\\lib\\\\site-packages\\\\chromedriver_autoinstaller\\\\121\\\\chromedriver.exe'"
      ]
     },
     "execution_count": 40,
     "metadata": {},
     "output_type": "execute_result"
    }
   ],
   "source": [
    "import chromedriver_autoinstaller\n",
    "chromedriver_autoinstaller.install()"
   ]
  },
  {
   "cell_type": "code",
   "execution_count": 41,
   "metadata": {},
   "outputs": [
    {
     "name": "stdout",
     "output_type": "stream",
     "text": [
      "Requirement already satisfied: selenium in c:\\users\\owner\\appdata\\local\\programs\\python\\python310\\lib\\site-packages (4.17.2)\n",
      "Requirement already satisfied: certifi>=2021.10.8 in c:\\users\\owner\\appdata\\local\\programs\\python\\python310\\lib\\site-packages (from selenium) (2024.2.2)\n",
      "Requirement already satisfied: trio~=0.17 in c:\\users\\owner\\appdata\\local\\programs\\python\\python310\\lib\\site-packages (from selenium) (0.24.0)\n",
      "Requirement already satisfied: urllib3[socks]<3,>=1.26 in c:\\users\\owner\\appdata\\local\\programs\\python\\python310\\lib\\site-packages (from selenium) (2.2.1)\n",
      "Requirement already satisfied: typing_extensions>=4.9.0 in c:\\users\\owner\\appdata\\local\\programs\\python\\python310\\lib\\site-packages (from selenium) (4.9.0)\n",
      "Requirement already satisfied: trio-websocket~=0.9 in c:\\users\\owner\\appdata\\local\\programs\\python\\python310\\lib\\site-packages (from selenium) (0.11.1)\n",
      "Requirement already satisfied: sniffio>=1.3.0 in c:\\users\\owner\\appdata\\local\\programs\\python\\python310\\lib\\site-packages (from trio~=0.17->selenium) (1.3.0)\n",
      "Requirement already satisfied: outcome in c:\\users\\owner\\appdata\\local\\programs\\python\\python310\\lib\\site-packages (from trio~=0.17->selenium) (1.3.0.post0)\n",
      "Requirement already satisfied: attrs>=20.1.0 in c:\\users\\owner\\appdata\\local\\programs\\python\\python310\\lib\\site-packages (from trio~=0.17->selenium) (23.2.0)\n",
      "Requirement already satisfied: idna in c:\\users\\owner\\appdata\\local\\programs\\python\\python310\\lib\\site-packages (from trio~=0.17->selenium) (3.6)\n",
      "Requirement already satisfied: cffi>=1.14 in c:\\users\\owner\\appdata\\local\\programs\\python\\python310\\lib\\site-packages (from trio~=0.17->selenium) (1.16.0)\n",
      "Requirement already satisfied: exceptiongroup in c:\\users\\owner\\appdata\\roaming\\python\\python310\\site-packages (from trio~=0.17->selenium) (1.2.0)\n",
      "Requirement already satisfied: sortedcontainers in c:\\users\\owner\\appdata\\local\\programs\\python\\python310\\lib\\site-packages (from trio~=0.17->selenium) (2.4.0)\n",
      "Requirement already satisfied: wsproto>=0.14 in c:\\users\\owner\\appdata\\local\\programs\\python\\python310\\lib\\site-packages (from trio-websocket~=0.9->selenium) (1.2.0)\n",
      "Requirement already satisfied: pysocks!=1.5.7,<2.0,>=1.5.6 in c:\\users\\owner\\appdata\\local\\programs\\python\\python310\\lib\\site-packages (from urllib3[socks]<3,>=1.26->selenium) (1.7.1)\n",
      "Requirement already satisfied: pycparser in c:\\users\\owner\\appdata\\local\\programs\\python\\python310\\lib\\site-packages (from cffi>=1.14->trio~=0.17->selenium) (2.21)\n",
      "Requirement already satisfied: h11<1,>=0.9.0 in c:\\users\\owner\\appdata\\local\\programs\\python\\python310\\lib\\site-packages (from wsproto>=0.14->trio-websocket~=0.9->selenium) (0.14.0)\n"
     ]
    },
    {
     "name": "stderr",
     "output_type": "stream",
     "text": [
      "\n",
      "[notice] A new release of pip is available: 23.0.1 -> 24.0\n",
      "[notice] To update, run: python.exe -m pip install --upgrade pip\n"
     ]
    }
   ],
   "source": [
    "! pip install selenium"
   ]
  },
  {
   "cell_type": "code",
   "execution_count": 42,
   "metadata": {},
   "outputs": [],
   "source": [
    "from selenium import webdriver\n",
    "browser=webdriver.Chrome()"
   ]
  },
  {
   "cell_type": "code",
   "execution_count": 43,
   "metadata": {},
   "outputs": [],
   "source": [
    "url='http://www.naver.com'\n",
    "browser.get(url)"
   ]
  },
  {
   "cell_type": "code",
   "execution_count": 44,
   "metadata": {},
   "outputs": [
    {
     "name": "stdout",
     "output_type": "stream",
     "text": [
      "Requirement already satisfied: beautifulsoup4 in c:\\users\\owner\\appdata\\local\\programs\\python\\python310\\lib\\site-packages (4.12.3)\n",
      "Requirement already satisfied: soupsieve>1.2 in c:\\users\\owner\\appdata\\local\\programs\\python\\python310\\lib\\site-packages (from beautifulsoup4) (2.5)\n"
     ]
    },
    {
     "name": "stderr",
     "output_type": "stream",
     "text": [
      "\n",
      "[notice] A new release of pip is available: 23.0.1 -> 24.0\n",
      "[notice] To update, run: python.exe -m pip install --upgrade pip\n"
     ]
    }
   ],
   "source": [
    "! pip install beautifulsoup4"
   ]
  },
  {
   "cell_type": "code",
   "execution_count": 95,
   "metadata": {},
   "outputs": [
    {
     "name": "stdout",
     "output_type": "stream",
     "text": [
      "<html\n",
      "lang=\"ko\"\n",
      "class=\"fzoom\"\n",
      "data-dark=\"false\"><head><script\n",
      "async=\"\"\n",
      "src=\"https://ntm.pstatic.net/ex/nlog.js\"></script><script\n",
      "async=\"\"\n",
      "src=\"https://ntm.pstatic.net/scripts/ntm_27291e35193e.js\"></script><script\n",
      "async=\"\"\n",
      "type=\"text/javascript\"\n",
      "src=\"https://ssl.pstatic.net/tveta/libs/ndpsdk/prod/ndp\n"
     ]
    }
   ],
   "source": [
    "html = browser.page_source\n",
    "html = html.replace(' ', '\\n')\n",
    "print(html[:300])"
   ]
  },
  {
   "cell_type": "code",
   "execution_count": 96,
   "metadata": {},
   "outputs": [],
   "source": [
    "html = '''\n",
    "<html>\n",
    "    <body>\n",
    "        <div class = 'sale'>\n",
    "            <p id='fruit1' class='fruit'>\n",
    "                <span class = 'name'>  바나나1 </span>\n",
    "                <p>\n",
    "                    <span class = 'name'> 바나나2 </span>\n",
    "                </p>\n",
    "                <span class = 'price'> 3000원 </span>\n",
    "                <a href =  'http1://'> 홈페이지1 </a>\n",
    "            </p>\n",
    "        </div>\n",
    "        <div class = 'sale'>\n",
    "            <p id='fruit2' class='fruit2'>\n",
    "                <span class = 'name'> 토마토 </span>\n",
    "                <span class = 'price'> 5000원 </span>\n",
    "                <span class = 'store'> 가나다 상회 </span>\n",
    "                <a href =  'http2://'> 홈페이지2 </a>\n",
    "            </p>\n",
    "        </div>\n",
    "\n",
    "    \n",
    "        <div class = 'prepare'>\n",
    "            <p id ='fruit3' class='fruit>\n",
    "                <span class = 'name'> 파인애플 </span>\n",
    "            </p>\n",
    "        </div>\n",
    "\n",
    "        <p class='k' id='uu'>\n",
    "        </p>\n",
    "    </body>\n",
    "<html>\n",
    "\n",
    "'''\n",
    "# 클래스는 중복 가능하지만, 아이디는 중복될 수가 없다."
   ]
  },
  {
   "cell_type": "code",
   "execution_count": 97,
   "metadata": {},
   "outputs": [],
   "source": [
    "from bs4 import BeautifulSoup\n",
    "soup = BeautifulSoup(html, 'html.parser')"
   ]
  },
  {
   "cell_type": "code",
   "execution_count": 48,
   "metadata": {},
   "outputs": [
    {
     "data": {
      "text/plain": [
       "(bs4.element.ResultSet,\n",
       " [<span class=\"name\">  바나나1 </span>,\n",
       "  <span class=\"name\"> 바나나2 </span>,\n",
       "  <span class=\"price\"> 3000원 </span>,\n",
       "  <span class=\"name\"> 토마토 </span>,\n",
       "  <span class=\"price\"> 5000원 </span>,\n",
       "  <span class=\"store\"> 가나다 상회 </span>])"
      ]
     },
     "execution_count": 48,
     "metadata": {},
     "output_type": "execute_result"
    }
   ],
   "source": [
    "# html tag를 가져올 때는 tag명만 주면 된다\n",
    "span_tags = soup.select('span')\n",
    "# ResultSet 타입은 파이썬의 list와 유사하다 (대괄호 안에 태그가 들어가 있다.)\n",
    "type(span_tags), span_tags"
   ]
  },
  {
   "cell_type": "code",
   "execution_count": 49,
   "metadata": {},
   "outputs": [
    {
     "data": {
      "text/plain": [
       "[<p class=\"fruit\" id=\"fruit1\">\n",
       " <span class=\"name\">  바나나1 </span>\n",
       " <p>\n",
       " <span class=\"name\"> 바나나2 </span>\n",
       " </p>\n",
       " <span class=\"price\"> 3000원 </span>\n",
       " <a href=\"http://\"> 홈페이지 </a>\n",
       " </p>,\n",
       " <p>\n",
       " <span class=\"name\"> 바나나2 </span>\n",
       " </p>,\n",
       " <p class=\"fruit\" id=\"fruit1\">\n",
       " <span class=\"name\"> 토마토 </span>\n",
       " <span class=\"price\"> 5000원 </span>\n",
       " <span class=\"store\"> 가나다 상회 </span>\n",
       " <a href=\"http://\"> 홈페이지 </a>\n",
       " </p>,\n",
       " <p class=\"fruit&gt; &lt;span class =\" id=\"fruit3\" name'=\"\"> 파인애플 \n",
       " </p>]"
      ]
     },
     "execution_count": 49,
     "metadata": {},
     "output_type": "execute_result"
    }
   ],
   "source": [
    "# tag이름으로 가져올 때 태그 이름을 명기하면 되고\n",
    "# 가져온 ResultSet은 해당 tag의 자식까지 다 가져온다\n",
    "p_tags = soup.select('p')\n",
    "p_tags"
   ]
  },
  {
   "cell_type": "code",
   "execution_count": 50,
   "metadata": {},
   "outputs": [
    {
     "data": {
      "text/plain": [
       "[<span class=\"price\"> 3000원 </span>, <span class=\"price\"> 5000원 </span>]"
      ]
     },
     "execution_count": 50,
     "metadata": {},
     "output_type": "execute_result"
    }
   ],
   "source": [
    "# . : 속성의 class, # : 속성의 id\n",
    "class_price = soup.select('.price')\n",
    "class_price"
   ]
  },
  {
   "cell_type": "code",
   "execution_count": 51,
   "metadata": {},
   "outputs": [
    {
     "data": {
      "text/plain": [
       "[<p class=\"fruit\" id=\"fruit1\">\n",
       " <span class=\"name\">  바나나1 </span>\n",
       " <p>\n",
       " <span class=\"name\"> 바나나2 </span>\n",
       " </p>\n",
       " <span class=\"price\"> 3000원 </span>\n",
       " <a href=\"http://\"> 홈페이지 </a>\n",
       " </p>,\n",
       " <p class=\"fruit\" id=\"fruit1\">\n",
       " <span class=\"name\"> 토마토 </span>\n",
       " <span class=\"price\"> 5000원 </span>\n",
       " <span class=\"store\"> 가나다 상회 </span>\n",
       " <a href=\"http://\"> 홈페이지 </a>\n",
       " </p>]"
      ]
     },
     "execution_count": 51,
     "metadata": {},
     "output_type": "execute_result"
    }
   ],
   "source": [
    "id_fruit1 = soup.select('#fruit1')\n",
    "id_fruit1"
   ]
  },
  {
   "cell_type": "code",
   "execution_count": 52,
   "metadata": {},
   "outputs": [
    {
     "data": {
      "text/plain": [
       "[<span class=\"price\"> 3000원 </span>, <span class=\"price\"> 5000원 </span>]"
      ]
     },
     "execution_count": 52,
     "metadata": {},
     "output_type": "execute_result"
    }
   ],
   "source": [
    "# soup에 클래스가 name인\n",
    "soup.select('span.name')\n",
    "p_tags\n",
    "soup.select('span.price')"
   ]
  },
  {
   "cell_type": "code",
   "execution_count": 53,
   "metadata": {},
   "outputs": [
    {
     "data": {
      "text/plain": [
       "[<span class=\"name\">  바나나1 </span>, <span class=\"name\"> 토마토 </span>]"
      ]
     },
     "execution_count": 53,
     "metadata": {},
     "output_type": "execute_result"
    }
   ],
   "source": [
    "# 클래스 태그가 fruit1\n",
    "# '>': 직속 하위 자식\n",
    "tag=soup.select('#fruit1>span.name') # 꺾새: 스판의 모든 자식 중에 이름이 name인 것 , 꺽새를 안하고 그냥 띄어 쓰면 스판의 직속 자식\n",
    "tag"
   ]
  },
  {
   "cell_type": "code",
   "execution_count": 54,
   "metadata": {},
   "outputs": [
    {
     "data": {
      "text/plain": [
       "[<span class=\"name\">  바나나1 </span>,\n",
       " <span class=\"name\"> 바나나2 </span>,\n",
       " <span class=\"name\"> 토마토 </span>]"
      ]
     },
     "execution_count": 54,
     "metadata": {},
     "output_type": "execute_result"
    }
   ],
   "source": [
    "# ' ': 모든 하위 자식\n",
    "tag= soup.select('#fruit1 span.name')\n",
    "tag"
   ]
  },
  {
   "cell_type": "code",
   "execution_count": 68,
   "metadata": {},
   "outputs": [
    {
     "data": {
      "text/plain": [
       "[<span class=\"price\"> 5000원 </span>]"
      ]
     },
     "execution_count": 68,
     "metadata": {},
     "output_type": "execute_result"
    }
   ],
   "source": [
    "# 클래스가 sale이고 아이디가 fruit2이고 span클래스 내임이 price 인 애덜\n",
    "soup.select('div.sale > #fruit2 > span.price')\n"
   ]
  },
  {
   "cell_type": "code",
   "execution_count": 73,
   "metadata": {},
   "outputs": [
    {
     "data": {
      "text/plain": [
       "bs4.element.Tag"
      ]
     },
     "execution_count": 73,
     "metadata": {},
     "output_type": "execute_result"
    }
   ],
   "source": [
    "tags= soup.select('span.name')\n",
    "tags[0] # 인덱싱 가능\n",
    "type(tags[2])"
   ]
  },
  {
   "cell_type": "code",
   "execution_count": 76,
   "metadata": {},
   "outputs": [
    {
     "name": "stdout",
     "output_type": "stream",
     "text": [
      "<span class=\"name\">  바나나1 </span>\n",
      "<span class=\"name\"> 바나나2 </span>\n",
      "<span class=\"name\"> 토마토 </span>\n"
     ]
    }
   ],
   "source": [
    "for t in tags:\n",
    "    print(t)"
   ]
  },
  {
   "cell_type": "code",
   "execution_count": 78,
   "metadata": {},
   "outputs": [
    {
     "data": {
      "text/plain": [
       "[<span class=\"name\">  바나나1 </span>,\n",
       " <span class=\"name\"> 바나나2 </span>,\n",
       " <span class=\"name\"> 토마토 </span>]"
      ]
     },
     "execution_count": 78,
     "metadata": {},
     "output_type": "execute_result"
    }
   ],
   "source": [
    "soup.find_all('span', {'class': 'name'}) # 딕셔너리라서 클레스에도 따옴표"
   ]
  },
  {
   "cell_type": "code",
   "execution_count": 80,
   "metadata": {},
   "outputs": [
    {
     "data": {
      "text/plain": [
       "[<div class=\"sale\">\n",
       " <p class=\"fruit\" id=\"fruit1\">\n",
       " <span class=\"name\">  바나나1 </span>\n",
       " <p>\n",
       " <span class=\"name\"> 바나나2 </span>\n",
       " </p>\n",
       " <span class=\"price\"> 3000원 </span>\n",
       " <a href=\"http://\"> 홈페이지 </a>\n",
       " </p>\n",
       " </div>,\n",
       " <div class=\"sale\">\n",
       " <p class=\"fruit2\" id=\"fruit2\">\n",
       " <span class=\"name\"> 토마토 </span>\n",
       " <span class=\"price\"> 5000원 </span>\n",
       " <span class=\"store\"> 가나다 상회 </span>\n",
       " <a href=\"http://\"> 홈페이지 </a>\n",
       " </p>\n",
       " </div>,\n",
       " <div class=\"prepare\">\n",
       " <p class=\"fruit&gt; &lt;span class =\" id=\"fruit3\" name'=\"\"> 파인애플 \n",
       " </p>\n",
       " </div>]"
      ]
     },
     "execution_count": 80,
     "metadata": {},
     "output_type": "execute_result"
    }
   ],
   "source": [
    "soup.find_all('div',{'class':['sale','prepare']})"
   ]
  },
  {
   "cell_type": "code",
   "execution_count": 87,
   "metadata": {},
   "outputs": [
    {
     "data": {
      "text/plain": [
       "[<p class=\"fruit2\" id=\"fruit2\">\n",
       " <span class=\"name\"> 토마토 </span>\n",
       " <span class=\"price\"> 5000원 </span>\n",
       " <span class=\"store\"> 가나다 상회 </span>\n",
       " <a href=\"http://\"> 홈페이지 </a>\n",
       " </p>]"
      ]
     },
     "execution_count": 87,
     "metadata": {},
     "output_type": "execute_result"
    }
   ],
   "source": [
    "# div 태그 중에 클래스가 fuit이고 아이디가 fruit2인 요소를 출력\n",
    "soup.find_all('p',{'class': 'fruit2','id':'fruit2'})"
   ]
  },
  {
   "cell_type": "code",
   "execution_count": 101,
   "metadata": {},
   "outputs": [
    {
     "data": {
      "text/plain": [
       "str"
      ]
     },
     "execution_count": 101,
     "metadata": {},
     "output_type": "execute_result"
    }
   ],
   "source": [
    "# a 태그도 찾아보자!\n",
    "# html에 홈페이지 주소 바꿔서 구분할 수 있게!\n",
    "tag=soup.select('a')\n",
    "tag\n",
    "# a 태그에서 'href' 값만 빼오기\n",
    "tag[0]['href']\n",
    "# 타입확인\n",
    "type(tag[0]['href']) # str"
   ]
  },
  {
   "cell_type": "code",
   "execution_count": 104,
   "metadata": {},
   "outputs": [
    {
     "data": {
      "text/plain": [
       "' 홈페이지1 '"
      ]
     },
     "execution_count": 104,
     "metadata": {},
     "output_type": "execute_result"
    }
   ],
   "source": [
    "# text값 빼오는 법: .text 이런 식 # 태근는ㄴ apjaAodjf tn dltek.\n",
    "tag=soup.select('a')[0]\n",
    "tag\n",
    "# 홈페이지2: 태그와 태그사이에 있는 텍스트임\n",
    "tag.text"
   ]
  },
  {
   "cell_type": "markdown",
   "metadata": {},
   "source": [
    "예제"
   ]
  },
  {
   "cell_type": "code",
   "execution_count": 105,
   "metadata": {},
   "outputs": [],
   "source": [
    "tags=soup.select('P')\n",
    "ptags=float"
   ]
  },
  {
   "cell_type": "code",
   "execution_count": 107,
   "metadata": {},
   "outputs": [
    {
     "data": {
      "text/plain": [
       "[<p class=\"fruit\" id=\"fruit1\">\n",
       " <span class=\"name\">  바나나1 </span>\n",
       " <p>\n",
       " <span class=\"name\"> 바나나2 </span>\n",
       " </p>\n",
       " <span class=\"price\"> 3000원 </span>\n",
       " <a href=\"http1://\"> 홈페이지1 </a>\n",
       " </p>]"
      ]
     },
     "execution_count": 107,
     "metadata": {},
     "output_type": "execute_result"
    }
   ],
   "source": [
    "tags=soup.select('p#fruit1')\n",
    "tags"
   ]
  },
  {
   "cell_type": "code",
   "execution_count": 114,
   "metadata": {},
   "outputs": [
    {
     "name": "stdout",
     "output_type": "stream",
     "text": [
      "fruit1\n"
     ]
    }
   ],
   "source": [
    "for tag in tags:\n",
    "    if('id' in tag.attrs):\n",
    "        if(tag['id']) == 'fruit1':\n",
    "            print(tag['id'])    "
   ]
  },
  {
   "cell_type": "code",
   "execution_count": 115,
   "metadata": {},
   "outputs": [],
   "source": [
    "# ptag를 많이받아서 float 1aks cnffurla"
   ]
  },
  {
   "cell_type": "code",
   "execution_count": 128,
   "metadata": {},
   "outputs": [
    {
     "ename": "AttributeError",
     "evalue": "ResultSet object has no attribute 'text'. You're probably treating a list of elements like a single element. Did you call find_all() when you meant to call find()?",
     "output_type": "error",
     "traceback": [
      "\u001b[1;31m---------------------------------------------------------------------------\u001b[0m",
      "\u001b[1;31mAttributeError\u001b[0m                            Traceback (most recent call last)",
      "Cell \u001b[1;32mIn[128], line 4\u001b[0m\n\u001b[0;32m      1\u001b[0m \u001b[38;5;66;03m# span에 있는 텍스트만 자다 다 찍어내기\u001b[39;00m\n\u001b[0;32m      3\u001b[0m tags\u001b[38;5;241m=\u001b[39msoup\u001b[38;5;241m.\u001b[39mselect(\u001b[38;5;124m'\u001b[39m\u001b[38;5;124mspan\u001b[39m\u001b[38;5;124m'\u001b[39m)\n\u001b[1;32m----> 4\u001b[0m \u001b[43mtags\u001b[49m\u001b[38;5;241;43m.\u001b[39;49m\u001b[43mtext\u001b[49m\n",
      "File \u001b[1;32mc:\\Users\\OWNER\\AppData\\Local\\Programs\\Python\\Python310\\lib\\site-packages\\bs4\\element.py:2433\u001b[0m, in \u001b[0;36mResultSet.__getattr__\u001b[1;34m(self, key)\u001b[0m\n\u001b[0;32m   2431\u001b[0m \u001b[38;5;28;01mdef\u001b[39;00m \u001b[38;5;21m__getattr__\u001b[39m(\u001b[38;5;28mself\u001b[39m, key):\n\u001b[0;32m   2432\u001b[0m \u001b[38;5;250m    \u001b[39m\u001b[38;5;124;03m\"\"\"Raise a helpful exception to explain a common code fix.\"\"\"\u001b[39;00m\n\u001b[1;32m-> 2433\u001b[0m     \u001b[38;5;28;01mraise\u001b[39;00m \u001b[38;5;167;01mAttributeError\u001b[39;00m(\n\u001b[0;32m   2434\u001b[0m         \u001b[38;5;124m\"\u001b[39m\u001b[38;5;124mResultSet object has no attribute \u001b[39m\u001b[38;5;124m'\u001b[39m\u001b[38;5;132;01m%s\u001b[39;00m\u001b[38;5;124m'\u001b[39m\u001b[38;5;124m. You\u001b[39m\u001b[38;5;124m'\u001b[39m\u001b[38;5;124mre probably treating a list of elements like a single element. Did you call find_all() when you meant to call find()?\u001b[39m\u001b[38;5;124m\"\u001b[39m \u001b[38;5;241m%\u001b[39m key\n\u001b[0;32m   2435\u001b[0m     )\n",
      "\u001b[1;31mAttributeError\u001b[0m: ResultSet object has no attribute 'text'. You're probably treating a list of elements like a single element. Did you call find_all() when you meant to call find()?"
     ]
    }
   ],
   "source": [
    "# span에 있는 텍스트만 자다 다 찍어내기\n",
    "\n",
    "tags=soup.select('span').text\n",
    "tags"
   ]
  },
  {
   "cell_type": "code",
   "execution_count": 118,
   "metadata": {},
   "outputs": [],
   "source": [
    "# text node만 다 줄력\n",
    "# 태그 들 다 입력 하기"
   ]
  },
  {
   "cell_type": "code",
   "execution_count": 127,
   "metadata": {},
   "outputs": [
    {
     "name": "stdout",
     "output_type": "stream",
     "text": [
      "  바나나1 \n",
      " 바나나2 \n",
      " 3000원 \n",
      " 토마토 \n",
      " 5000원 \n",
      " 가나다 상회 \n"
     ]
    }
   ],
   "source": [
    "div_tag=soup.select('div.sale')\n",
    "div_tag[0]\n",
    "for div_ in div_tag:\n",
    "    span_tags=div_.findAll('span')\n",
    "\n",
    "    for span_ in span_tags:\n",
    "        print(span_.text)\n"
   ]
  },
  {
   "cell_type": "code",
   "execution_count": 125,
   "metadata": {},
   "outputs": [
    {
     "name": "stdout",
     "output_type": "stream",
     "text": [
      "name  토마토 \n",
      "price  5000원 \n",
      "store  가나다 상회 \n"
     ]
    }
   ],
   "source": [
    "# fruit2의 클래스를 가진 name price store 찍기\n",
    "div_tag=soup.select('p#fruit2')\n",
    "div_tag\n",
    "for div_ in div_tag:\n",
    "    span_tags=div_.findAll('span')\n",
    "\n",
    "    for span_ in span_tags:\n",
    "        print(span_['class'][0],span_.text) # span_['class'] 만 출력하면 리스트로 나와서 [0] 붙여주기\n",
    "\n",
    "# 텍스트, 노드 , 태그 ... . 으로 .?\n"
   ]
  }
 ],
 "metadata": {
  "kernelspec": {
   "display_name": "Python 3",
   "language": "python",
   "name": "python3"
  },
  "language_info": {
   "codemirror_mode": {
    "name": "ipython",
    "version": 3
   },
   "file_extension": ".py",
   "mimetype": "text/x-python",
   "name": "python",
   "nbconvert_exporter": "python",
   "pygments_lexer": "ipython3",
   "version": "3.10.11"
  }
 },
 "nbformat": 4,
 "nbformat_minor": 2
}
