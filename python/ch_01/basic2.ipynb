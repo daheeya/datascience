{
 "cells": [
  {
   "cell_type": "markdown",
   "metadata": {},
   "source": [
    "### bool(부울자료형)\n",
    "- True, False\n",
    "- 주로 조건문에서 사용\n",
    "- ==, >, <, ..."
   ]
  },
  {
   "cell_type": "code",
   "execution_count": 1,
   "metadata": {},
   "outputs": [
    {
     "data": {
      "text/plain": [
       "True"
      ]
     },
     "execution_count": 1,
     "metadata": {},
     "output_type": "execute_result"
    }
   ],
   "source": [
    "'kim' == 'kim'"
   ]
  },
  {
   "cell_type": "code",
   "execution_count": 2,
   "metadata": {},
   "outputs": [
    {
     "data": {
      "text/plain": [
       "True"
      ]
     },
     "execution_count": 2,
     "metadata": {},
     "output_type": "execute_result"
    }
   ],
   "source": [
    "10 < 11"
   ]
  },
  {
   "cell_type": "code",
   "execution_count": 13,
   "metadata": {},
   "outputs": [
    {
     "name": "stdout",
     "output_type": "stream",
     "text": [
      "True\n",
      "True\n"
     ]
    },
    {
     "data": {
      "text/plain": [
       "True"
      ]
     },
     "execution_count": 13,
     "metadata": {},
     "output_type": "execute_result"
    }
   ],
   "source": [
    "# 문자열이 있으면 True\n",
    "if 'kim':\n",
    "    print(True)\n",
    "\n",
    "# 리스트가 비어있으면 False\n",
    "if []:\n",
    "    print(True)\n",
    "\n",
    "if 1:\n",
    "    print(True)\n",
    "\n",
    "bool([1,2,3])"
   ]
  },
  {
   "cell_type": "code",
   "execution_count": 50,
   "metadata": {},
   "outputs": [
    {
     "name": "stdout",
     "output_type": "stream",
     "text": [
      "하\n",
      "끝내보자\n",
      "승마\n",
      "승마\n",
      "(1, 2, 3, 1, 2, 3, 1, 2, 3, 4, 5, 6, 4, 5, 6)\n",
      "{'name': 'pyo', 'hobby': 'swim'}\n",
      "dict_keys(['name', 'hobby'])\n",
      "dict_values(['pyo', 'swim'])\n"
     ]
    },
    {
     "data": {
      "text/plain": [
       "'swim'"
      ]
     },
     "execution_count": 50,
     "metadata": {},
     "output_type": "execute_result"
    }
   ],
   "source": [
    "sentence = '파이썬 하루만에 끝내보자'\n",
    "\n",
    "# sentence 문자열에서 '하' 문자를 출력\n",
    "print(sentence[4])\n",
    "\n",
    "# sentence 문자열에서 '끝내보자' 문자를 출력\n",
    "print(sentence[9:])\n",
    "\n",
    "## 9 * 9 = 81 출력해보자\n",
    "\n",
    "# 숫자 부분에 % 연산자 포맷팅\n",
    "sentence = \"%d * %d = %d\" % (9, 9, 81) \n",
    "sentence\n",
    "\n",
    "# 숫자 부분에.format 포맷팅\n",
    "sentence = \"{} * {} = {}\".format(9, 9, 81)\n",
    "sentence\n",
    "\n",
    "# f-string\n",
    "n1, n2 = 9, 9\n",
    "n3 = n1 * n2\n",
    "\n",
    "sentence = f'{n1}*{n2}={n3}'\n",
    "sentence\n",
    "myList = [2024, 3, 9*9, ['풋살', ['승마', '수영']]]\n",
    "\n",
    "# myList 리스트에서 인덱싱 이용하여 '승마' 문자 출력\n",
    "print(myList[3][1][-2])\n",
    "print(myList[-1][1][0])\n",
    "\n",
    "# myList 리스트에서 3번째 위치에 \"삽입\" 문자열 삽입\n",
    "myList.insert(3, '삽입')\n",
    "myList\n",
    "\n",
    "myTuple1 = (1,2,3)\n",
    "myTuple2 = (4,5,6)\n",
    "# 1, 2, 3, 1, 2, 3, 1, 2, 3, 4, 5, 6, 4, 5, 6) 결과를 만드시오\n",
    "print(myTuple1*3 + myTuple2*2)\n",
    "\n",
    "# name은 자신의 영어 이름', 'hobby는 자신의 취미로 해서 딕셔너리를 만드시오\n",
    "myDictionary = {\n",
    "    \"name\" : \"pyo\",\n",
    "    \"hobby\" : \"swim\"\n",
    "}\n",
    "print(myDictionary)\n",
    "\n",
    "# 딕셔너리 key와 value를 각각 모두 출력\n",
    "print(myDictionary.keys())\n",
    "print(myDictionary.values())\n",
    "\n",
    "# hobby의 값을 출력\n",
    "myDictionary.get('hobby')"
   ]
  },
  {
   "cell_type": "markdown",
   "metadata": {},
   "source": [
    "### 입력과 출력\n",
    "- input\n",
    "- 사용자의 입력을 받기위해 input() \n",
    "- input()함수는 무조건 문자열 자료형을 리턴"
   ]
  },
  {
   "cell_type": "code",
   "execution_count": 1,
   "metadata": {},
   "outputs": [
    {
     "name": "stdout",
     "output_type": "stream",
     "text": [
      "python <class 'str'>\n"
     ]
    }
   ],
   "source": [
    "name = input('이름을 입력하세요:')\n",
    "print(name, type(name))"
   ]
  },
  {
   "cell_type": "code",
   "execution_count": 2,
   "metadata": {},
   "outputs": [
    {
     "name": "stdout",
     "output_type": "stream",
     "text": [
      "123 <class 'str'>\n"
     ]
    }
   ],
   "source": [
    "number = input('숫자를 입력하세요:')\n",
    "print(number, type(number))"
   ]
  },
  {
   "cell_type": "code",
   "execution_count": 28,
   "metadata": {},
   "outputs": [
    {
     "name": "stdout",
     "output_type": "stream",
     "text": [
      "12\n",
      "3\n"
     ]
    }
   ],
   "source": [
    "# int() : 정수로 변환\n",
    "# float() : 실수로 변환\n",
    "\n",
    "s1 = input('1. 입력:')\n",
    "s2 = input('2. 입력:')\n",
    "\n",
    "num1 = int(s1)\n",
    "num2 = int(s2)\n",
    "\n",
    "print( s1 + s2 )\n",
    "print( num1 + num2)"
   ]
  },
  {
   "cell_type": "code",
   "execution_count": 7,
   "metadata": {},
   "outputs": [
    {
     "name": "stdout",
     "output_type": "stream",
     "text": [
      "1  2\n"
     ]
    }
   ],
   "source": [
    "# input을 활용해서 ,로 구분해서 각각 변수에 담아보세요\n",
    "\n",
    "a, b = input('콤마를 구분해서 2개의 숫자를 넣어주세요:').split(',')\n",
    "print(a, b, sep=',')"
   ]
  },
  {
   "cell_type": "code",
   "execution_count": 22,
   "metadata": {},
   "outputs": [
    {
     "name": "stdout",
     "output_type": "stream",
     "text": [
      "1 2\n"
     ]
    },
    {
     "data": {
      "text/plain": [
       "3"
      ]
     },
     "execution_count": 22,
     "metadata": {},
     "output_type": "execute_result"
    }
   ],
   "source": [
    "a, b = [1, 2]\n",
    "a, b = (1, 2)\n",
    "print(a, b)\n",
    "\n",
    "# input을 활용해서 ,로 구분해서 숫자를 입력해서 변수로 받으세요\n",
    "# 각각의 변수를 더한 결과를 출력\n",
    "a, b = map(int, input('콤마를 구분해서 2개의 숫자를 넣어주세요:').split(','))\n",
    "a + b"
   ]
  },
  {
   "cell_type": "code",
   "execution_count": 23,
   "metadata": {},
   "outputs": [
    {
     "name": "stdout",
     "output_type": "stream",
     "text": [
      "12 <class 'str'>\n"
     ]
    }
   ],
   "source": [
    "# str() : 문자열 반환\n",
    "\n",
    "int1 = 12 \n",
    "msg = str(int1)\n",
    "print(msg, type(msg))"
   ]
  },
  {
   "cell_type": "markdown",
   "metadata": {},
   "source": [
    "# 파일 입출력\n",
    "\n",
    "[함수]\n",
    "- open \n",
    "- write\n",
    "- read\n",
    "- close\n",
    "\n",
    "[모드]\n",
    "- r : read\n",
    "- w : write\n",
    "- a : append"
   ]
  },
  {
   "cell_type": "code",
   "execution_count": 20,
   "metadata": {},
   "outputs": [],
   "source": [
    "my_file = open(\"python.txt\", 'w')\n",
    "my_file.write(\"programming!\")\n",
    "my_file.close()"
   ]
  },
  {
   "cell_type": "code",
   "execution_count": 21,
   "metadata": {},
   "outputs": [
    {
     "data": {
      "text/plain": [
       "'programming!'"
      ]
     },
     "execution_count": 21,
     "metadata": {},
     "output_type": "execute_result"
    }
   ],
   "source": [
    "my_file = open('python.txt', 'r')\n",
    "msg = my_file.read()\n",
    "my_file.close()\n",
    "msg"
   ]
  },
  {
   "cell_type": "code",
   "execution_count": 15,
   "metadata": {},
   "outputs": [],
   "source": [
    "my_file = open('python2.txt', 'w')\n",
    "my_file.write(\"programming!\\npython\\nwin\")\n",
    "my_file.close()"
   ]
  },
  {
   "cell_type": "code",
   "execution_count": 81,
   "metadata": {},
   "outputs": [],
   "source": [
    "my_file = open('python2.txt', 'r')\n",
    "# readline()"
   ]
  },
  {
   "cell_type": "code",
   "execution_count": 80,
   "metadata": {},
   "outputs": [
    {
     "data": {
      "text/plain": [
       "'win'"
      ]
     },
     "execution_count": 80,
     "metadata": {},
     "output_type": "execute_result"
    }
   ],
   "source": [
    "text=my_file.readline()\n",
    "text"
   ]
  },
  {
   "cell_type": "code",
   "execution_count": 74,
   "metadata": {},
   "outputs": [
    {
     "data": {
      "text/plain": [
       "'programming!'"
      ]
     },
     "execution_count": 74,
     "metadata": {},
     "output_type": "execute_result"
    }
   ],
   "source": [
    "text.strip() #문자열 양 끝의 공백, 개행, 탭 등을 삭제"
   ]
  },
  {
   "cell_type": "code",
   "execution_count": 84,
   "metadata": {},
   "outputs": [
    {
     "data": {
      "text/plain": [
       "'win'"
      ]
     },
     "execution_count": 84,
     "metadata": {},
     "output_type": "execute_result"
    }
   ],
   "source": [
    "my_file.readline().strip()"
   ]
  },
  {
   "cell_type": "code",
   "execution_count": 64,
   "metadata": {},
   "outputs": [],
   "source": [
    "my_file = open('python2.txt', 'r')\n",
    "lines = my_file.readlines()"
   ]
  },
  {
   "cell_type": "code",
   "execution_count": 65,
   "metadata": {},
   "outputs": [],
   "source": [
    "# 개행문자를 없애고 list로 출력하고자 한다면\n",
    "# func1 = lambda str : str.strip()\n",
    "# list(map (func1, lines))\n",
    "[line.strip() for line in lines]\n",
    "my_file.close()"
   ]
  },
  {
   "cell_type": "markdown",
   "metadata": {},
   "source": [
    "## with open\n",
    "file을 open하고 close를 별도 해주지 않아도 자동으로 close가 된다."
   ]
  },
  {
   "cell_type": "code",
   "execution_count": 18,
   "metadata": {},
   "outputs": [
    {
     "name": "stdout",
     "output_type": "stream",
     "text": [
      "programming!\n",
      "python\n",
      "win\n"
     ]
    }
   ],
   "source": [
    "with open('python2.txt','r',encoding='utf-8') as my_file:\n",
    "    read_txt=my_file.read()\n",
    "\n",
    "print(read_txt)"
   ]
  },
  {
   "cell_type": "code",
   "execution_count": 22,
   "metadata": {},
   "outputs": [
    {
     "name": "stdout",
     "output_type": "stream",
     "text": [
      "programming!\n",
      "python\n",
      "win\n"
     ]
    }
   ],
   "source": [
    "# \\n 을 제거하고 그 자리에 ' '으로 변경해보자.\n",
    "read_txt[:read_txt.find('\\n')]\n",
    "read_txt.replace('\\n',' ')\n",
    "print(read_txt)"
   ]
  },
  {
   "cell_type": "markdown",
   "metadata": {},
   "source": [
    "# 조건문\n",
    "조건문은 참과 거짓을 판단하는 문장\n",
    "\n",
    "```python\n",
    "if 조건문:\n",
    "   조건이 참일 때 수행 문장\n",
    "```\n",
    "\n",
    "- (:)과 들여쓰기 주의 \n",
    "\n",
    "### if문에 올 수 있는 것 들\n",
    "- 관계연산자 <, >, ==, <=, >=, !=\n",
    "- 논리연산자 and, or, not"
   ]
  },
  {
   "cell_type": "code",
   "execution_count": 24,
   "metadata": {},
   "outputs": [
    {
     "name": "stdout",
     "output_type": "stream",
     "text": [
      "True 입니다.\n",
      "go1\n",
      "go2\n"
     ]
    }
   ],
   "source": [
    "flag=True\n",
    "# if문에 속한 문장은 들여쓰기가 필수\n",
    "if flag:\n",
    "    print('True 입니다.')\n",
    "    print('go1')\n",
    "    print('go2')"
   ]
  },
  {
   "cell_type": "markdown",
   "metadata": {},
   "source": [
    "```python\n",
    "if condition:\n",
    "   statement\n",
    "elif condition:\n",
    "   statement\n",
    "elif condition:\n",
    "   statement\n",
    "else:\n",
    "   statement\n",
    "```"
   ]
  },
  {
   "cell_type": "code",
   "execution_count": 25,
   "metadata": {},
   "outputs": [
    {
     "name": "stdout",
     "output_type": "stream",
     "text": [
      "else\n"
     ]
    }
   ],
   "source": [
    "flag=False\n",
    "if flag:\n",
    "    print('true')\n",
    "else:\n",
    "    print('else')"
   ]
  },
  {
   "cell_type": "code",
   "execution_count": 27,
   "metadata": {},
   "outputs": [
    {
     "name": "stdout",
     "output_type": "stream",
     "text": [
      "pass\n"
     ]
    }
   ],
   "source": [
    "score=90\n",
    "grade='A'\n",
    "\n",
    "# score가 90이상이고 학점이 A학점이면 pass\n",
    "# 그렇지 않으면 fail\n",
    "\n",
    "if score>=90 and grade=='A':\n",
    "    print('pass')\n",
    "else:\n",
    "    print('fail')"
   ]
  },
  {
   "cell_type": "code",
   "execution_count": 31,
   "metadata": {},
   "outputs": [
    {
     "name": "stdout",
     "output_type": "stream",
     "text": [
      "C class\n"
     ]
    }
   ],
   "source": [
    "grade=input()\n",
    "\n",
    "if grade=='A':\n",
    "    print('A class')\n",
    "elif grade=='B':\n",
    "    print('B class')\n",
    "else:\n",
    "    print('C class')"
   ]
  },
  {
   "cell_type": "markdown",
   "metadata": {},
   "source": [
    "### in/not in 연산자\n",
    "데이터 안에 찾고자 하는 것이 있는지 없는지 확인하는 연산"
   ]
  },
  {
   "cell_type": "code",
   "execution_count": 34,
   "metadata": {},
   "outputs": [
    {
     "name": "stdout",
     "output_type": "stream",
     "text": [
      "True\n",
      "False\n",
      "True\n"
     ]
    }
   ],
   "source": [
    "if 'k' in 'korea':\n",
    "    print(True)\n",
    "else:\n",
    "    print(False)\n",
    "\n",
    "list1=[10,20,30]\n",
    "dict1={'name':'kim', 'city':'seoul'}\n",
    "\n",
    "print(15 in list1)\n",
    "print('name' in dict1.keys())"
   ]
  },
  {
   "cell_type": "markdown",
   "metadata": {},
   "source": [
    "### pass 키워드\n",
    "조건은 만족하지만 아무 일도 수행하지 않고 싶을 때  \n",
    "**혹은** 프로그램 골격을 잡아놓고자 할 때 추후에 작업"
   ]
  },
  {
   "cell_type": "code",
   "execution_count": 36,
   "metadata": {},
   "outputs": [
    {
     "name": "stdout",
     "output_type": "stream",
     "text": [
      "not passs\n"
     ]
    }
   ],
   "source": [
    "basket=['apple', 'banana']\n",
    "if 'strawberry' not in basket:\n",
    "    pass"
   ]
  },
  {
   "cell_type": "markdown",
   "metadata": {},
   "source": [
    "놀이공원에 입장해서 사용자로부터 키와 나이를 입력받고  \n",
    "  \n",
    "키가 120보다 작으면 입장 불가  \n",
    "그렇지 않으면 입장 가능  \n",
    "  \n",
    "입장 시 ticket가격은  \n",
    "12세 미만은 ticket가격은 5불  \n",
    "12~18세 미만은 ticket가격은 7불  \n",
    "그 외는 10불  \n",
    "  \n",
    "입장 후 사진촬영 유무에 따라  \n",
    "촬영 시 3불이 추가"
   ]
  },
  {
   "cell_type": "code",
   "execution_count": 1,
   "metadata": {},
   "outputs": [
    {
     "name": "stdout",
     "output_type": "stream",
     "text": [
      "130 25\n",
      "입장완료\n",
      "13\n"
     ]
    }
   ],
   "source": [
    "height=input('키: ')\n",
    "age=input('나이: ')\n",
    "\n",
    "print(height, age)\n",
    "ticket=0\n",
    "\n",
    "height_int=int(height)\n",
    "age_int=int(age)\n",
    "\n",
    "if height_int>=120:\n",
    "    print('입장완료')\n",
    "    if age_int<12:\n",
    "        ticket=5\n",
    "        photo=input('photo? T or F: ')\n",
    "        if photo=='T':\n",
    "            print(ticket+3)\n",
    "        else: \n",
    "            print(ticket)\n",
    "    elif age_int<18:\n",
    "        ticket=7\n",
    "        photo=input('T or F: ')\n",
    "        if photo=='T':\n",
    "            print(ticket+3)\n",
    "        else: \n",
    "            print(ticket)\n",
    "    else:\n",
    "        ticket=10\n",
    "        photo=input('photo? T or F: ')\n",
    "        if photo=='T':\n",
    "            print(ticket+3)\n",
    "        else: \n",
    "            print(ticket)\n",
    "else:\n",
    "    print('입장불가')"
   ]
  },
  {
   "cell_type": "code",
   "execution_count": 93,
   "metadata": {},
   "outputs": [
    {
     "name": "stdout",
     "output_type": "stream",
     "text": [
      "130 15\n",
      "당신의 지불비용은 10입니다.\n"
     ]
    }
   ],
   "source": [
    "\n",
    "height,age=map(int, input('키와 나이를 콤마로 구분해서 입력하세요: ').split(','))\n",
    "print(height, age)\n",
    "\n",
    "bill=0\n",
    "\n",
    "if height > 120:\n",
    "    if age < 12:\n",
    "        bill+=5\n",
    "    elif age<18:\n",
    "        bill+=7\n",
    "    else:\n",
    "        bill+=10\n",
    "    photo=input(\"photh? Y or N\")\n",
    "    if photo=='Y':\n",
    "        bill+=3\n",
    "else:\n",
    "    print('입장불가')\n",
    "print(f'당신의 지불비용은 {bill}입니다.')"
   ]
  },
  {
   "cell_type": "markdown",
   "metadata": {},
   "source": [
    "# 반복문\n",
    "### 리스트나 튜플, 딕셔너리에서 차례로 먼가를 하고 싶을 때\n",
    "- for 반복문\n",
    "```python\n",
    "    for 변수 in 리스트(튜플, 문자열):\n",
    "        반복적으로 수행할 문장\n",
    "        \n",
    "    for 변수 in 반복할 수 있는 것:\n",
    "        반복적으로 수행할 문\n",
    "```\n",
    "- while 반복"
   ]
  },
  {
   "cell_type": "code",
   "execution_count": 100,
   "metadata": {},
   "outputs": [
    {
     "name": "stdout",
     "output_type": "stream",
     "text": [
      "python programming 0\n",
      "python programming 1\n",
      "python programming 2\n",
      "python programming 3\n",
      "python programming 4\n"
     ]
    }
   ],
   "source": [
    "# 특정 코드를 반복작업 하고 싶을 때\n",
    "for i in range(5):\n",
    "    print(f'python programming {i}')"
   ]
  },
  {
   "cell_type": "code",
   "execution_count": 108,
   "metadata": {},
   "outputs": [
    {
     "name": "stdout",
     "output_type": "stream",
     "text": [
      "korea"
     ]
    }
   ],
   "source": [
    "msg='korea'\n",
    "for s in msg:\n",
    "    print(s, end='') # end를 넣어주지 않으면 자동으로 개행(\\n)이 들어감."
   ]
  },
  {
   "cell_type": "code",
   "execution_count": 117,
   "metadata": {},
   "outputs": [
    {
     "name": "stdout",
     "output_type": "stream",
     "text": [
      "k o r e a korea\n",
      "u s a usa\n",
      "j a p e n japen\n"
     ]
    }
   ],
   "source": [
    "my_list=['korea','usa','japen']\n",
    "for s in my_list:\n",
    "    for a in s:\n",
    "        print(a,end=' ')\n",
    "    \n",
    "    print(s)"
   ]
  },
  {
   "cell_type": "markdown",
   "metadata": {},
   "source": [
    "### 딕셔너리 반복문\n",
    "```python\n",
    "for 키변수 in 딕셔너리:\n",
    "    문장\n",
    "```"
   ]
  },
  {
   "cell_type": "code",
   "execution_count": 118,
   "metadata": {},
   "outputs": [
    {
     "name": "stdout",
     "output_type": "stream",
     "text": [
      "name = dahee\n",
      "age = 23\n",
      "name = dahee\n",
      "age = 23\n"
     ]
    }
   ],
   "source": [
    "my_dict={'name':'dahee','age':23}\n",
    "\n",
    "for key in my_dict:\n",
    "    print(f'{key} = {my_dict.get(key)}')\n",
    "\n",
    "for key in my_dict:\n",
    "    print(f'{key} = {my_dict[key]}') # 이것도 됨! \n"
   ]
  },
  {
   "cell_type": "markdown",
   "metadata": {},
   "source": [
    "## 범위 반복\n",
    "### range()\n",
    "- range(A) : 0 ~ A-1\n",
    "- range(A,B) : A ~ B-1\n",
    "- range(A,B,C) : A ~ B-1, C만큼 숫자 증가"
   ]
  },
  {
   "cell_type": "code",
   "execution_count": 120,
   "metadata": {},
   "outputs": [
    {
     "name": "stdout",
     "output_type": "stream",
     "text": [
      "[0, 1, 2, 3, 4]\n",
      "[5, 6, 7, 8, 9]\n",
      "[5, 7, 9]\n"
     ]
    }
   ],
   "source": [
    "print(list(range(5)))\n",
    "print(list(range(5,10)))\n",
    "print(list(range(5,10,2)))"
   ]
  },
  {
   "cell_type": "code",
   "execution_count": 131,
   "metadata": {},
   "outputs": [
    {
     "name": "stdout",
     "output_type": "stream",
     "text": [
      "4 * 1 = 4\n",
      "4 * 2 = 8\n",
      "4 * 3 = 12\n",
      "4 * 4 = 16\n",
      "4 * 5 = 20\n",
      "4 * 6 = 24\n",
      "4 * 7 = 28\n",
      "4 * 8 = 32\n",
      "4 * 9 = 36\n"
     ]
    }
   ],
   "source": [
    "# 3부터 시작해서 20미만의 수를 4간격으로 출력\n",
    "print(list(range(3,20,4)))\n",
    "\n",
    "for r in range(3,20,4):\n",
    "    print(r, end=' ')\n",
    "\n",
    "# 1부터 1000까지의 합\n",
    "a=0\n",
    "for i in range(1001):\n",
    "    a+=i\n",
    "print(a)\n",
    "\n",
    "# 구구단 출력\n",
    "for i in range(2, 10):\n",
    "    for j in range(1, 10):\n",
    "        print( f'{i} * {j} = {i*j}')\n",
    "\n",
    "gu=input('몇단? : ')\n",
    "for h in range(1,10):\n",
    "    print(f'{int(gu)} * {h} = {int(gu)*h}')"
   ]
  },
  {
   "cell_type": "code",
   "execution_count": 135,
   "metadata": {},
   "outputs": [
    {
     "name": "stdout",
     "output_type": "stream",
     "text": [
      "123.5bool type"
     ]
    }
   ],
   "source": [
    "list1=[\"1\", 2 ,3.5, True, 4]\n",
    "# 부울 타입을 만나면 'bool type'이라고 출력\n",
    "for i in list1:\n",
    "    if type(i) is bool: # type 비교는 \"is\"\n",
    "        print('bool type',end=' ')\n",
    "        break # loop탈출 키워드\n",
    "        # continue : 반복문으로 다시 돌려보낸다.\n",
    "    else:\n",
    "        print(i,end=' ')"
   ]
  },
  {
   "cell_type": "markdown",
   "metadata": {},
   "source": [
    "# while\n",
    "조건을 만족하면 계속 반복  \n",
    "bool 표현식이 참인 동안 반복\n",
    "\n",
    "```python\n",
    "    while 조건:\n",
    "        문장\n",
    "        문장\n",
    "```"
   ]
  },
  {
   "cell_type": "code",
   "execution_count": 144,
   "metadata": {},
   "outputs": [
    {
     "name": "stdout",
     "output_type": "stream",
     "text": [
      "1\n",
      "2\n",
      "3\n",
      "4\n",
      "5\n"
     ]
    }
   ],
   "source": [
    "count=0\n",
    "# count가 5가 될 때까지 반복하여 count를 출력\n",
    "# count는 반복할 때 마다 1씩 증가한다.\n",
    "\n",
    "while count<5:\n",
    "    count+=1\n",
    "    print(count)\n"
   ]
  },
  {
   "cell_type": "code",
   "execution_count": 202,
   "metadata": {},
   "outputs": [
    {
     "name": "stdout",
     "output_type": "stream",
     "text": [
      "10,1\n",
      "10,2\n",
      "10,3\n",
      "10,4\n",
      "10,5\n",
      "10,6\n",
      "10,7\n",
      "10,8\n",
      "10,9\n",
      "10,10\n",
      "10,11\n",
      "10,12\n",
      "10,13\n",
      "10,14\n",
      "10,15\n",
      "10,16\n",
      "10,17\n",
      "10,18\n",
      "10,19\n",
      "10,20\n"
     ]
    }
   ],
   "source": [
    "# a=10\n",
    "# a가 3보다 클 때까지 반복\n",
    "# a는 루프를 돌 때마다 1씩 증가하고 count도 1씩 증가한다.\n",
    "# 루프를 돌 때마다 a와 count값을 출력하고\n",
    "# count가 20보다 크면 루프를 종료하고 탈출\n",
    "a=10\n",
    "count=0\n",
    "for a in range(10,3,-1):\n",
    "    while count<20:\n",
    "        count+=1\n",
    "        print(f'{a},{count}')  \n",
    "    "
   ]
  },
  {
   "cell_type": "code",
   "execution_count": 154,
   "metadata": {},
   "outputs": [
    {
     "name": "stdout",
     "output_type": "stream",
     "text": [
      "2450\n"
     ]
    }
   ],
   "source": [
    "# 1부터 100까지 정수 중 짝수만 더해서 출력\n",
    "sum=0\n",
    "for i in range(2,100,2):\n",
    "    sum+=i\n",
    "print(sum)"
   ]
  },
  {
   "cell_type": "code",
   "execution_count": 176,
   "metadata": {},
   "outputs": [
    {
     "name": "stdout",
     "output_type": "stream",
     "text": [
      "25\n"
     ]
    }
   ],
   "source": [
    "# 1부터 사용자가 입려간 숫자까지 4의 배수인 개수는 몇개인지 출력\n",
    "## n%4==0 쓰기!\n",
    "num=int(input('숫자?: '))\n",
    "count=0\n",
    "for i in range(1,num+1):\n",
    "    if i%4==0:\n",
    "        count+=1\n",
    "print(count)\n"
   ]
  },
  {
   "cell_type": "code",
   "execution_count": 178,
   "metadata": {},
   "outputs": [
    {
     "name": "stdout",
     "output_type": "stream",
     "text": [
      "13\n",
      "1번째 기회: 5보다 큼\n",
      "2번째 기회: 5보다 큼\n",
      "3번째 기회: 5보다 큼\n",
      "4번째 기회: 5보다 큼\n",
      "5번째 기회: 5보다 큼\n",
      "6번째 기회: 5보다 큼\n",
      "7번째 기회: 5보다 큼\n",
      "8번째 기회: 5보다 큼\n",
      "9번째 기회: 5보다 큼\n",
      "10번째 기회: 5보다 큼\n",
      "기회 끝\n"
     ]
    }
   ],
   "source": [
    "# 1부터 100까지 랜덤수를 발생해서\n",
    "import random\n",
    "random_num=random.randint(1,100)\n",
    "print(random_num)\n",
    "# 10번의 기회를 통해 해당 랜덤수를 맞추는 게임을 작성하세요\n",
    "for i in range(10):\n",
    "    select=int(input('1부터 100 중에 선택: '))\n",
    "    if select>random_num:\n",
    "        print(f'{i+1}번째 기회: {select}보다 작음')\n",
    "    elif select<random_num:\n",
    "        print(f'{i+1}번째 기회: {select}보다 큼')\n",
    "    else:\n",
    "        print(f'{i+1}번째 기회: {select}, 정답!')\n",
    "        break\n",
    "print('기회 끝')"
   ]
  },
  {
   "cell_type": "code",
   "execution_count": 174,
   "metadata": {},
   "outputs": [
    {
     "name": "stdout",
     "output_type": "stream",
     "text": [
      "student3\n",
      "정답\n"
     ]
    }
   ],
   "source": [
    "# 학생들 리스트에서 무작위로 한명 선택해서 마피아를 결정하고\n",
    "학생리스트=['student1', 'student2', 'student3', 'student4', 'student5', 'student6', 'student7', 'student8', 'student9']\n",
    "mafia=random.choice(학생리스트)\n",
    "print(mafia)\n",
    "#3번의 기회를 통해 마피아를 찾는 게임을 만드시오\n",
    "for i in range(3):\n",
    "    select=input('마피아: ')\n",
    "    if select==mafia:\n",
    "        print('정답')\n",
    "        break\n",
    "    else:\n",
    "        print('땡')"
   ]
  },
  {
   "cell_type": "code",
   "execution_count": 185,
   "metadata": {},
   "outputs": [
    {
     "name": "stdout",
     "output_type": "stream",
     "text": [
      "student9\n",
      "땡\n",
      "땡\n",
      "땡\n",
      "정답\n"
     ]
    }
   ],
   "source": [
    "# 학생들 리스트에서 무작위로 한명 선택해서 마피아를 결정하고\n",
    "학생리스트=['student1', 'student2', 'student3', 'student4', 'student5', 'student6', 'student7', 'student8', 'student9']\n",
    "mafia=random.choice(학생리스트)\n",
    "print(mafia)\n",
    "# 사용자로부터 찾을 때까지 입력받기\n",
    "\n",
    "select=input('누구게: ')\n",
    "while select!=mafia:\n",
    "    print('땡')\n",
    "    select=input('누구게: ')\n",
    "print('정답')"
   ]
  },
  {
   "cell_type": "code",
   "execution_count": 193,
   "metadata": {},
   "outputs": [
    {
     "name": "stdout",
     "output_type": "stream",
     "text": [
      "{2, 37, 5, 13, 22, 23}\n",
      "[12, 46, 7, 20, 45, 39]\n"
     ]
    }
   ],
   "source": [
    "# 로또 숫자 (1~45)를 추출하는 프로그램을 작성하시오.\n",
    "import random\n",
    "lotto_set=set([])\n",
    "while len(lotto_set)<6:\n",
    "    lotto_num=random.randint(1,46)\n",
    "    lotto_set.add(lotto_num)\n",
    "print(lotto_set)\n",
    "\n",
    "lotto=[]\n",
    "for num in range(6):\n",
    "    ran=random.randint(1,46)\n",
    "    while ran in lotto:\n",
    "        ran=random.randint(1,46)\n",
    "    lotto.append(ran)\n",
    "print(lotto)"
   ]
  },
  {
   "cell_type": "code",
   "execution_count": 195,
   "metadata": {},
   "outputs": [
    {
     "name": "stdout",
     "output_type": "stream",
     "text": [
      "4\n",
      "4\n",
      "4\n",
      "4\n",
      "568\n",
      "7531\n",
      "8\n",
      "5\n",
      "3\n",
      "{3, 4, 5, 8, 7531, 568}\n"
     ]
    }
   ],
   "source": [
    "# import random7\n",
    "lotto_set=set([])\n",
    "while len(lotto_set)<6:\n",
    "    # lotto_num=random.randint(1,46)\n",
    "    my=int(input())\n",
    "    print(my)\n",
    "    lotto_set.add(my)\n",
    "print(lotto_set)"
   ]
  },
  {
   "cell_type": "code",
   "execution_count": 200,
   "metadata": {},
   "outputs": [
    {
     "name": "stdout",
     "output_type": "stream",
     "text": [
      "{4, 42, 12, 18, 23, 28}\n",
      "[4, 12, 50, 28, 23, 418]\n",
      "4만큼 맞춤\n"
     ]
    }
   ],
   "source": [
    "# 로또숫자 6개를 입력받아\n",
    "# 기계가 나온 숫자와 몇개가 일치하는지 체크해보자\n",
    "import random\n",
    "lotto_set=set([])\n",
    "while len(lotto_set)<6:\n",
    "    lotto_num=random.randint(1,46)\n",
    "    lotto_set.add(lotto_num)\n",
    "print(lotto_set)\n",
    "\n",
    "mylotto=[]\n",
    "for i in range(6):\n",
    "    mylotto.append(int(input()))\n",
    "print(mylotto)\n",
    "\n",
    "# mylotto=list(map(int, input(\"숫자6개 콤마 기준으로 입력\").split(',')))\n",
    "\n",
    "count=0\n",
    "for i in mylotto:\n",
    "    if i in lotto_set:\n",
    "        count+=1\n",
    "print(f'{count}만큼 맞춤') "
   ]
  }
 ],
 "metadata": {
  "kernelspec": {
   "display_name": "Python 3",
   "language": "python",
   "name": "python3"
  },
  "language_info": {
   "codemirror_mode": {
    "name": "ipython",
    "version": 3
   },
   "file_extension": ".py",
   "mimetype": "text/x-python",
   "name": "python",
   "nbconvert_exporter": "python",
   "pygments_lexer": "ipython3",
   "version": "3.12.1"
  }
 },
 "nbformat": 4,
 "nbformat_minor": 2
}
