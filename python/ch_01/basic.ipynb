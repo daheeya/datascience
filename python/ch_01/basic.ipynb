{
 "cells": [
  {
   "cell_type": "markdown",
   "metadata": {},
   "source": [
    "## 변수 \n",
    "어떤 값을 저장하기 위한 저장공간\n",
    "\n",
    "## 변수이름의 규칙\n",
    "- 영문자 혹은 _ 시작\n",
    "- 대소문자 구분\n",
    "- 숫자로 X\n",
    "- 특수문자 X\n",
    "- 공백 X \n",
    "- 파이썬 예약어 X "
   ]
  },
  {
   "cell_type": "code",
   "execution_count": 2,
   "metadata": {},
   "outputs": [
    {
     "name": "stdout",
     "output_type": "stream",
     "text": [
      "5 <class 'int'>\n"
     ]
    }
   ],
   "source": [
    "# 파이썬은 모든게 다 객체(=Class)이다. \n",
    "    # 객체 : 최소실행단위, 속성을 가지고 있는 개체(엔티티)\n",
    "\n",
    "# a,b 는 변수\n",
    "a=7\n",
    "b=5\n",
    "print (b, type(b))\n",
    "\n",
    "# int: 정수형 타입\n"
   ]
  },
  {
   "cell_type": "code",
   "execution_count": 2,
   "metadata": {},
   "outputs": [
    {
     "name": "stdout",
     "output_type": "stream",
     "text": [
      "7\n",
      "7\n"
     ]
    }
   ],
   "source": [
    "b=a\n",
    "print (b)\n",
    "\n",
    "# call by reference : 객체가 메모리의 주소를 가진다. (값 X)\n",
    "a=5\n",
    "print(b)"
   ]
  },
  {
   "cell_type": "markdown",
   "metadata": {},
   "source": [
    "### 변수선언\n",
    "\n",
    "- 하나의 변수에 하나의 값을 대입\n",
    "- 두개의 변수에 같은 값을 대입\n",
    "- 변수에 변수를 대입"
   ]
  },
  {
   "cell_type": "code",
   "execution_count": 3,
   "metadata": {},
   "outputs": [
    {
     "name": "stdout",
     "output_type": "stream",
     "text": [
      "10 <class 'int'>\n",
      "hello <class 'str'>\n",
      "[1, 2, 3] <class 'list'>\n"
     ]
    }
   ],
   "source": [
    "# 하나의 변수에 하나의 값\n",
    "a=1\n",
    "b=1\n",
    "\n",
    "# 변수에 값을 할당\n",
    "age=23\n",
    "name='한다희'\n",
    "name2= None # 빈 값\n",
    "pi=3.14 # 실수\n",
    "real=True # 논리형\n",
    "\n",
    "# 변수 재할당\n",
    "x=10\n",
    "print(x,type(x))\n",
    "x= 'hello'\n",
    "print(x,type(x))\n",
    "x=[1,2,3]\n",
    "print(x,type(x))\n"
   ]
  },
  {
   "cell_type": "code",
   "execution_count": 4,
   "metadata": {},
   "outputs": [
    {
     "name": "stdout",
     "output_type": "stream",
     "text": [
      "1 1\n"
     ]
    }
   ],
   "source": [
    "# 두개의 변수에 같은 값을 대입\n",
    "a=b=1\n",
    "\n",
    "# 변수에 변수를 선언\n",
    "a=1\n",
    "b=a\n",
    "print(a,b)"
   ]
  },
  {
   "cell_type": "code",
   "execution_count": 10,
   "metadata": {},
   "outputs": [
    {
     "name": "stdout",
     "output_type": "stream",
     "text": [
      "2000 10\n",
      "<class 'int'>\n",
      "30\n",
      "hello kim~!\n"
     ]
    }
   ],
   "source": [
    "# 값을 변경해보자\n",
    "a=10\n",
    "b=2000\n",
    "\n",
    "a,b = b,a\n",
    "print(a,b)\n",
    "\n",
    "# 변수의 타입 확인\n",
    "x=10\n",
    "print(type(x))\n",
    "\n",
    "# 변수의 활용\n",
    "x=10\n",
    "y=20\n",
    "sum=x+y\n",
    "print(sum)\n",
    "\n",
    "name='kim'\n",
    "msg='hello ' + name + '~!'\n",
    "print(msg)\n"
   ]
  },
  {
   "cell_type": "code",
   "execution_count": 11,
   "metadata": {},
   "outputs": [
    {
     "name": "stdout",
     "output_type": "stream",
     "text": [
      "10 20\n"
     ]
    }
   ],
   "source": [
    "# 변수의 출력\n",
    "a=10\n",
    "A=20\n",
    "\n",
    "print(a,A)"
   ]
  },
  {
   "cell_type": "code",
   "execution_count": null,
   "metadata": {},
   "outputs": [],
   "source": [
    "# 변수 선언 시 주의할 점\n",
    "\n",
    "# age = 30 name = 'kim'   한 라인에 두 변수를 선언 불가\n",
    "# 30age =30 변수이름에 숫자시작 불가능\n",
    "\n",
    "# 변수명 대소문자 구분\n",
    "age=30\n",
    "Age=30 "
   ]
  },
  {
   "cell_type": "markdown",
   "metadata": {},
   "source": [
    "### data type (자료형)\n",
    "- 프로그램에서 표현하고 저장하는 데이터 유형 (= 메모리의 크기가 결정)\n",
    "\n",
    "1. 순서형 자료형\n",
    "- 숫자(number): 정수, 실수, 복소수...\n",
    "- 문자형(strings): 문자열\n",
    "- 리스트(list): 객체의 집합(= 인덱스가 있다.)\n",
    "- 튜플(tuples): 객체의 집합(= 인덱스가 있다.)\n",
    "2. 비순서 자료형\n",
    "- 딕셔너리(dictionary): 키(key)와 값(value)으로 구성\n",
    "- 집합(set): \n",
    "- bool: true & false"
   ]
  },
  {
   "cell_type": "code",
   "execution_count": 13,
   "metadata": {},
   "outputs": [
    {
     "name": "stdout",
     "output_type": "stream",
     "text": [
      "3\n",
      "-3.2\n",
      "<class 'int'>\n",
      "<class 'float'>\n"
     ]
    }
   ],
   "source": [
    "# number\n",
    "print(3)\n",
    "print(-3.2)\n",
    "print(type(3))\n",
    "print(type(3.2))"
   ]
  },
  {
   "cell_type": "code",
   "execution_count": 18,
   "metadata": {},
   "outputs": [
    {
     "name": "stdout",
     "output_type": "stream",
     "text": [
      "7.2\n",
      "0.7999999999999998\n",
      "1.25\n"
     ]
    }
   ],
   "source": [
    "# 연산자\n",
    "# +, -, *, /\n",
    "\n",
    "a=4\n",
    "b=3.2\n",
    "c=2\n",
    "\n",
    "print(a+b)\n",
    "print(a-b)\n",
    "print(a/b)"
   ]
  },
  {
   "cell_type": "code",
   "execution_count": null,
   "metadata": {},
   "outputs": [],
   "source": [
    "# %: 나머지 연산자\n",
    "# //: 몫 연산자\n",
    "\n",
    "print(a%c)\n",
    "print(a//c)"
   ]
  },
  {
   "cell_type": "code",
   "execution_count": 19,
   "metadata": {},
   "outputs": [
    {
     "name": "stdout",
     "output_type": "stream",
     "text": [
      "16\n"
     ]
    }
   ],
   "source": [
    "# ** : 제곱 연산자\n",
    "print(a**c)"
   ]
  },
  {
   "cell_type": "code",
   "execution_count": 22,
   "metadata": {},
   "outputs": [
    {
     "name": "stdout",
     "output_type": "stream",
     "text": [
      "6\n",
      "5.0\n",
      "6.2\n"
     ]
    }
   ],
   "source": [
    "# 파이썬 관련 함수\n",
    "# 내장함수 int, float \n",
    "\n",
    "print(int (6.2))\n",
    "\n",
    "print(float(5))\n",
    "\n",
    "# 절대값\n",
    "print(abs(-6.2))\n",
    "# 제곱근\n",
    "print()"
   ]
  },
  {
   "cell_type": "markdown",
   "metadata": {},
   "source": [
    "### 문자열\n",
    "- 겉따옴표 혹은 작은따옴표로 문자열을 만든다.\n",
    "- 문자열 내부에 따옴표가 필요한 경우 '이스케이프'문자 통해 가능"
   ]
  },
  {
   "cell_type": "code",
   "execution_count": 24,
   "metadata": {},
   "outputs": [
    {
     "name": "stdout",
     "output_type": "stream",
     "text": [
      "hello\n",
      "hello\n",
      "Im smart\n",
      "I'm smart\n",
      "kavin는 '파이썬 프로그램'잘한다.\n"
     ]
    }
   ],
   "source": [
    "word = 'hello'\n",
    "print(word)\n",
    "\n",
    "print('hello')\n",
    "\n",
    "# 문자열 내부의 작은 따옴표\n",
    "print(\"Im smart\")\n",
    "\n",
    "print('I\\'m smart')\n",
    "print('kavin는 \\'파이썬 프로그램\\'잘한다.')"
   ]
  },
  {
   "cell_type": "code",
   "execution_count": 25,
   "metadata": {},
   "outputs": [
    {
     "name": "stdout",
     "output_type": "stream",
     "text": [
      "\n",
      "글을 쓴다.\n",
      "세줄도 된다.\n",
      "네줄도 된다.\n",
      "\n"
     ]
    }
   ],
   "source": [
    "# 여러개의 문자열\n",
    "sentence= \"\"\"\n",
    "글을 쓴다.\n",
    "세줄도 된다.\n",
    "네줄도 된다.\n",
    "\"\"\"\n",
    "\n",
    "print(sentence)"
   ]
  },
  {
   "cell_type": "code",
   "execution_count": 26,
   "metadata": {},
   "outputs": [
    {
     "name": "stdout",
     "output_type": "stream",
     "text": [
      "글을 쓴다.\n",
      "세줄도 된다.\n",
      "네줄도 된다.\n"
     ]
    }
   ],
   "source": [
    "sentence= \"\"\"\\\n",
    "글을 쓴다.\n",
    "세줄도 된다.\n",
    "네줄도 된다.\\\n",
    "\"\"\"\n",
    "\n",
    "print(sentence)"
   ]
  },
  {
   "cell_type": "code",
   "execution_count": 27,
   "metadata": {},
   "outputs": [
    {
     "name": "stdout",
     "output_type": "stream",
     "text": [
      "1\n",
      "2\n",
      "3\t4\n",
      "'작은 따옴표'출력\n",
      "\"큰 따옴표\"출력\n"
     ]
    }
   ],
   "source": [
    "# 이스케이프 문자\n",
    "# \\n : 줄바꿈, \\t : 탭, \\\\: 역슬래쉬, \\' : 작은따옴표, \\\" : 큰따옴표\n",
    "\n",
    "sentence1=\"1\\n2\"\n",
    "sentence2=\"3\\t4\"\n",
    "sentence3='\\'작은 따옴표\\'출력'\n",
    "sentence4=\"\\\"큰 따옴표\\\"출력\"\n",
    "\n",
    "print(sentence1)\n",
    "print(sentence2)\n",
    "print(sentence3)\n",
    "print(sentence4)"
   ]
  },
  {
   "cell_type": "code",
   "execution_count": 29,
   "metadata": {},
   "outputs": [
    {
     "name": "stdout",
     "output_type": "stream",
     "text": [
      "파이썬! programming~\n"
     ]
    }
   ],
   "source": [
    "# 문자열 자료형(string)\n",
    "# - 연산자 +, *\n",
    "\n",
    "a='파이썬! '\n",
    "b='programming~'\n",
    "\n",
    "print(a+b)"
   ]
  },
  {
   "cell_type": "code",
   "execution_count": 30,
   "metadata": {},
   "outputs": [
    {
     "name": "stdout",
     "output_type": "stream",
     "text": [
      "==============================\n",
      "python!\n",
      "==============================\n"
     ]
    }
   ],
   "source": [
    "# [*]는 문자열 반복 연산자\n",
    "equal = \"=\"*30\n",
    "sentence = equal+\"\\npython!\\n\"+equal\n",
    "\n",
    "print(sentence)"
   ]
  },
  {
   "cell_type": "markdown",
   "metadata": {},
   "source": [
    "# 문자열 인덱싱과 슬라이싱\n",
    "- 인덱싱\n",
    "  문자열 내부에 문자 하나를 선택하는 연산자 : []\n",
    "  [] 안에 선택할 문자의 위치를 지정 : index는 0부터 시작"
   ]
  },
  {
   "cell_type": "code",
   "execution_count": 33,
   "metadata": {},
   "outputs": [
    {
     "name": "stdout",
     "output_type": "stream",
     "text": [
      "파이썬프로그래밍\n",
      "프\n",
      "래\n"
     ]
    }
   ],
   "source": [
    "sentence='파이썬프로그래밍'\n",
    "print(sentence)\n",
    "\n",
    "# 순방향: 0부터 시작\n",
    "# 역바향: -1부터 시작\n",
    "print(sentence[3])\n",
    "print(sentence[-2])"
   ]
  },
  {
   "cell_type": "markdown",
   "metadata": {},
   "source": [
    "- 슬라이싱\n",
    "  문자열의 특정 범위 선택: [ : ]\n",
    "  문자열 [인덱스1: 인덱스2] (인덱스2는 포함 X)"
   ]
  },
  {
   "cell_type": "code",
   "execution_count": 38,
   "metadata": {},
   "outputs": [
    {
     "name": "stdout",
     "output_type": "stream",
     "text": [
      "썬 프로\n"
     ]
    }
   ],
   "source": [
    "sentence = \"파이썬 프로그래밍\"\n",
    "print(sentence[2:6])\n",
    "print(sentence[4:]) # 4 ~ (8-1)"
   ]
  },
  {
   "cell_type": "markdown",
   "metadata": {},
   "source": [
    "- formatting\n",
    "문자열 안에 어떤 값을 삽입하는 방법\n",
    "1. 연산자 포맷팅 : %\n",
    "2. 함수 포맷팅 : .format\n",
    "3. f-string : f''"
   ]
  },
  {
   "cell_type": "code",
   "execution_count": 41,
   "metadata": {},
   "outputs": [
    {
     "name": "stdout",
     "output_type": "stream",
     "text": [
      "나는 6호선을 타고 다닌다.\n",
      "나는 4호선을 타고 학교에 왔다.\n"
     ]
    }
   ],
   "source": [
    "# 연산자 포맷팅\n",
    "# %d: 정수, %f: 실수, %s: 문자열\n",
    "\n",
    "sentence = '나는 %d호선을 타고 다닌다.' %6\n",
    "print(sentence)\n",
    "\n",
    "a= 4\n",
    "b= '학교'\n",
    "sentence=\"나는 %d호선을 타고 %s에 왔다.\" %(a, b)\n",
    "print(sentence)"
   ]
  },
  {
   "cell_type": "code",
   "execution_count": 44,
   "metadata": {},
   "outputs": [
    {
     "name": "stdout",
     "output_type": "stream",
     "text": [
      "나는 4호선을 타고 다녀\n",
      "나는 4호선을 타고 학교에 간다.\n"
     ]
    }
   ],
   "source": [
    "# format함수 포맷팅\n",
    "# {}를 포함한 문자열 뒤에 도트(.)를 찍고 format함수를 사용\n",
    "\n",
    "print('나는 {}호선을 타고 다녀'.format(4))\n",
    "\n",
    "print('나는 {}호선을 타고 {}에 간다.'.format(4,'학교'))\n"
   ]
  },
  {
   "cell_type": "markdown",
   "metadata": {},
   "source": [
    "# f-string"
   ]
  },
  {
   "cell_type": "code",
   "execution_count": 46,
   "metadata": {},
   "outputs": [
    {
     "data": {
      "text/plain": [
       "'저는 coffee를 좋아한다. 하루에 5잔 마셔요.'"
      ]
     },
     "execution_count": 46,
     "metadata": {},
     "output_type": "execute_result"
    }
   ],
   "source": [
    "# f-string\n",
    "s='coffee'\n",
    "n=5\n",
    "result=f'저는 {s}를 좋아한다. 하루에 {n}잔 마셔요.'\n",
    "result"
   ]
  },
  {
   "cell_type": "markdown",
   "metadata": {},
   "source": [
    "## 문자열 관련 함수\n",
    "- len(x) : 문자열의 길이\n",
    "- split() : 문자열 나누기\n",
    "- count(x) : 문자 개수 세기\n",
    "- replace('a','b') : 문자열 바꾸기\n",
    "- upper() : 소문자를 대문자로 바꾸기\n",
    "- lower() : 대문자를 소문자로\n",
    "- join(x) : 문자열 삽입"
   ]
  },
  {
   "cell_type": "code",
   "execution_count": 56,
   "metadata": {},
   "outputs": [
    {
     "name": "stdout",
     "output_type": "stream",
     "text": [
      "17\n",
      "['dahee는', '파이썬을-좋아합니다']\n",
      "['dahee는 파이썬을', '좋아합니다']\n",
      "<class 'list'>\n"
     ]
    }
   ],
   "source": [
    "sentence='dahee는 파이썬을-좋아합니다'\n",
    "print(len(sentence))\n",
    "\n",
    "print(sentence.split()) # 공백기준으로 문자열 분리\n",
    "print(sentence.split('-'))\n",
    "print(type(sentence.split()))  # class list type\n"
   ]
  },
  {
   "cell_type": "code",
   "execution_count": 59,
   "metadata": {},
   "outputs": [
    {
     "name": "stdout",
     "output_type": "stream",
     "text": [
      "2\n"
     ]
    }
   ],
   "source": [
    "sentence1='나는 샤브샤브를 좋아한다.'\n",
    "print(sentence1.count('샤브'))"
   ]
  },
  {
   "cell_type": "code",
   "execution_count": 62,
   "metadata": {},
   "outputs": [
    {
     "name": "stdout",
     "output_type": "stream",
     "text": [
      "나는 불고기를 좋아한다.\n",
      "나는 샤브샤브를 좋아한다.\n"
     ]
    }
   ],
   "source": [
    "# 원본데이터를 보존\n",
    "sentence2=sentence1.replace('샤브샤브','불고기')\n",
    "print(sentence2)\n",
    "print(sentence1)\n"
   ]
  },
  {
   "cell_type": "code",
   "execution_count": 65,
   "metadata": {},
   "outputs": [
    {
     "name": "stdout",
     "output_type": "stream",
     "text": [
      ".jpg\n",
      "HAMburger\n"
     ]
    }
   ],
   "source": [
    "# find('a') : 위치 알려주기(젤 처음 위치)\n",
    "# 확장자 출력\n",
    "file_name='HAMburger.jpg'\n",
    "dot_index=file_name.find('.')\n",
    "print(file_name[dot_index:])\n",
    "\n",
    "# 파일명을 출력\n",
    "print(file_name[:dot_index])"
   ]
  },
  {
   "cell_type": "code",
   "execution_count": 67,
   "metadata": {},
   "outputs": [
    {
     "name": "stdout",
     "output_type": "stream",
     "text": [
      "HAMBURGER.JPG\n",
      "hamburger.jpg\n"
     ]
    }
   ],
   "source": [
    "print(file_name.upper())\n",
    "print(file_name.lower())"
   ]
  },
  {
   "cell_type": "code",
   "execution_count": 68,
   "metadata": {},
   "outputs": [
    {
     "name": "stdout",
     "output_type": "stream",
     "text": [
      "a.b.c.d.e\n"
     ]
    }
   ],
   "source": [
    "sentence='.'.join('abcde') \n",
    "print(sentence)"
   ]
  },
  {
   "cell_type": "markdown",
   "metadata": {},
   "source": [
    "## list\n",
    "- 수정, 삽입, 삭제 가능\n",
    "- 인덱싱과 슬라이싱\n",
    "- 객체들의 집합\n",
    "- 리스트 : [index]\n",
    "- 대괄호 안에 들어가는 숫자를 index라고 한다.\n",
    "- 파이썬은 0부터 시작"
   ]
  },
  {
   "cell_type": "code",
   "execution_count": 84,
   "metadata": {},
   "outputs": [
    {
     "name": "stdout",
     "output_type": "stream",
     "text": [
      "[1, 1.25, 'kavin', [1, 2, [3, 4]]]\n"
     ]
    }
   ],
   "source": [
    "# 리스트 선언\n",
    "# 여러종류의 타입ㅇ르 요소로 가질 수 있다.\n",
    "\n",
    "my_list=[1, 1.25,'kavin',[1,2,[3,4]]]\n",
    "print(my_list)\n",
    "\n",
    "print(my_list[0])\n",
    "print(my_list[3][2][0]) # [1,2,[3,4]]의 3\n",
    "print(my_list[2][2]) # 'kavin'의 'v'\n",
    "print(my_list[2][2:]) # 'kavin'의 'vin'출력\n",
    "print(my_list[3][2]) # [3,4] 출력\n"
   ]
  },
  {
   "cell_type": "code",
   "execution_count": 86,
   "metadata": {},
   "outputs": [
    {
     "name": "stdout",
     "output_type": "stream",
     "text": [
      "유자차\n"
     ]
    }
   ],
   "source": [
    "my_list2 = [1, 5.2, 2*3, ['커피','물',['우롱차','유자차']]]\n",
    "print(my_list2[3][2][1]) # 유자차 출력"
   ]
  },
  {
   "cell_type": "code",
   "execution_count": 89,
   "metadata": {},
   "outputs": [
    {
     "name": "stdout",
     "output_type": "stream",
     "text": [
      "[1, 2, 3, 1, 2, 3, 4, 5, 6]\n",
      "9\n"
     ]
    }
   ],
   "source": [
    "# 연산자\n",
    "# +, *(반복)\n",
    "\n",
    "list1=[1,2,3]\n",
    "list2=[4,5,6]\n",
    "\n",
    "print(list1*2+list2)\n",
    "print(len(list1*2+list2))"
   ]
  },
  {
   "cell_type": "code",
   "execution_count": 94,
   "metadata": {},
   "outputs": [
    {
     "name": "stdout",
     "output_type": "stream",
     "text": [
      "[1, 5.2, 6, ['커피', '물', ['매실차', '우롱차']]]\n",
      "[1, 5.2, '변경', ['커피', '물', ['매실차', '우롱차']]]\n"
     ]
    },
    {
     "data": {
      "text/plain": [
       "[1, 5.2, ['커피', '물', ['매실차', '우롱차']]]"
      ]
     },
     "execution_count": 94,
     "metadata": {},
     "output_type": "execute_result"
    }
   ],
   "source": [
    "# list의 수정, 삭제\n",
    "list3=[1, 5.2, 3*2, ['커피','물',['매실차','우롱차']]]\n",
    "print(list3)\n",
    "\n",
    "# 리스트는 수정, 삭제, 삽입 가능\n",
    "list3[2]='변경'\n",
    "print(list3)\n",
    "\n",
    "del list3[2]\n",
    "list3"
   ]
  },
  {
   "cell_type": "markdown",
   "metadata": {},
   "source": [
    "## 관련함수\n",
    "- sort() : 정렬\n",
    "- reverse() : 리스트 뒤집기\n",
    "- append(x) : 리스트에 요소 추가 \n",
    "- extend(x) : 리스트 확장\n",
    "- insert(a,b) : a번째 위치에 b를 삽입\n",
    "- remove(x) : x 위치의 요소 제거\n",
    "- count(x) : 리스트에 포함된 x의 요소개수"
   ]
  },
  {
   "cell_type": "code",
   "execution_count": 112,
   "metadata": {},
   "outputs": [
    {
     "name": "stdout",
     "output_type": "stream",
     "text": [
      "[1, 2, 2, 5.2, 6]\n",
      "[2, 6, 2, 5.2, 1]\n",
      "[1, 5.2, 2, 6, 2, [4, 5, 4]]\n",
      "[1, 5.2, 2, 6, 2, 4, 5, 4]\n",
      "[1, 5.2, 'insert', 2, 6, 2]\n",
      "[1, 5.2, 6, 2]\n",
      "[1, 5.2, 2, 6]\n",
      "[1, 2, 6, 2]\n",
      "1\n"
     ]
    }
   ],
   "source": [
    "list1 =[1, 5.2, 2, 6, 2]\n",
    "list1.sort()\n",
    "print(list1)\n",
    "\n",
    "\n",
    "list1 =[1, 5.2, 2, 6, 2]\n",
    "list1.reverse()\n",
    "print(list1)\n",
    "\n",
    "# 하나의 요소로 추가\n",
    "list1 =[1, 5.2, 2, 6, 2]\n",
    "list1.append([4,5,4])\n",
    "print(list1)\n",
    "\n",
    "# 원래 리스트에 새로운 리스트 요소를 추가하는 함수\n",
    "list1 =[1, 5.2, 2, 6, 2]\n",
    "list1.extend([4,5,4])\n",
    "print(list1)\n",
    "\n",
    "list1 =[1, 5.2, 2, 6, 2]\n",
    "list1.insert(2, 'insert')\n",
    "print(list1)\n",
    "\n",
    "# 젤 첫번째에 애만 지움\n",
    "list1 =[1, 5.2, 2, 6, 2]\n",
    "list1.remove(2) \n",
    "print(list1)\n",
    "\n",
    "# 젤 뒤에 있는 요소를 삭제\n",
    "list1 =[1, 5.2, 2, 6, 2]\n",
    "list1.pop()\n",
    "print(list1)\n",
    "\n",
    "list1 =[1, 5.2, 2, 6, 2]\n",
    "list1.pop(1) # 그 인덱스의 값을 반환하고 삭제\n",
    "print(list1)\n",
    "\n",
    "\n",
    "list1 =[1, 5.2, 2, 6, 2]\n",
    "print(list1.count(1))\n"
   ]
  },
  {
   "cell_type": "markdown",
   "metadata": {},
   "source": [
    "## 튜플(tuple)\n",
    "(데이터, 데이터, 데이터,...)\n",
    "만약, 값이 한개이더라도 , 를 붙여야 함\n",
    "(데이터,)\n",
    "\n",
    "값을 추가, 삭제, 수정 할 수 없음"
   ]
  },
  {
   "cell_type": "code",
   "execution_count": 116,
   "metadata": {},
   "outputs": [
    {
     "data": {
      "text/plain": [
       "float"
      ]
     },
     "execution_count": 116,
     "metadata": {},
     "output_type": "execute_result"
    }
   ],
   "source": [
    "tuple1=(2.3,)\n",
    "type(tuple1)\n",
    "\n",
    "float1=(2.3)\n",
    "type(float1)"
   ]
  },
  {
   "cell_type": "code",
   "execution_count": 118,
   "metadata": {},
   "outputs": [
    {
     "data": {
      "text/plain": [
       "tuple"
      ]
     },
     "execution_count": 118,
     "metadata": {},
     "output_type": "execute_result"
    }
   ],
   "source": [
    "tuple2= 1, 2, 3, 4, 5 # 괄호 생략 가능 \n",
    "type(tuple2)"
   ]
  },
  {
   "cell_type": "code",
   "execution_count": 121,
   "metadata": {},
   "outputs": [
    {
     "name": "stdout",
     "output_type": "stream",
     "text": [
      "(4, 3)\n"
     ]
    }
   ],
   "source": [
    "# 인덱싱과 슬라이싱\n",
    "# 리스트와 완전 동일\n",
    "\n",
    "tuple2\n",
    "tuple2[1]\n",
    "\n",
    "tuple3=(5, 4, 3, 2)\n",
    "# 4, 3 출력\n",
    "print(tuple3[1:3])\n"
   ]
  },
  {
   "cell_type": "markdown",
   "metadata": {},
   "source": [
    "## 튜플 연산자\n",
    "- +, * (반복)\n",
    "- 변경과 삭제는 불가능"
   ]
  },
  {
   "cell_type": "code",
   "execution_count": 123,
   "metadata": {},
   "outputs": [
    {
     "name": "stdout",
     "output_type": "stream",
     "text": [
      "(1, 2, 3, 1, 2, 3, 4, 5, 6)\n",
      "<class 'tuple'>\n"
     ]
    }
   ],
   "source": [
    "t1=(1,2,3)\n",
    "t2=(4,5,6)\n",
    "print(t1*2+t2)\n",
    "\n",
    "# t1[0] = 4 --- 대입연산 불가능\n",
    "# del t1[0] --- 삭제연산 불가능"
   ]
  },
  {
   "cell_type": "markdown",
   "metadata": {},
   "source": [
    "## 딕셔너리 (dictionary)\n",
    "- 순서가 없는 자료형\n",
    "-> 인덱싱, 슬라이싱 불가능\n",
    "- 'key'='value'\n",
    "- { 'key' : 'value', ...., } 형태 : 딕셔너리 값 선언\n",
    "- ['key' ] : key를 통해 값을 가져올 수 있다.\n",
    "\n",
    "- 속도가 빠름"
   ]
  },
  {
   "cell_type": "code",
   "execution_count": 125,
   "metadata": {},
   "outputs": [
    {
     "data": {
      "text/plain": [
       "dict"
      ]
     },
     "execution_count": 125,
     "metadata": {},
     "output_type": "execute_result"
    }
   ],
   "source": [
    "myDic={\n",
    "    \"name\":\"dahee\",\n",
    "    \"job\":\"student\",\n",
    "    \"age\":23\n",
    "}\n",
    "type(myDic)"
   ]
  },
  {
   "cell_type": "code",
   "execution_count": 127,
   "metadata": {},
   "outputs": [
    {
     "name": "stdout",
     "output_type": "stream",
     "text": [
      "dahee\n"
     ]
    }
   ],
   "source": [
    "print(myDic[\"name\"])"
   ]
  },
  {
   "cell_type": "markdown",
   "metadata": {},
   "source": [
    "### 관련함수\n",
    "- keys() : key의 리스트\n",
    "- values() : value의 리스트\n",
    "- items() : key, value 쌍 얻기\n",
    "- get() : key로 value 얻기\n",
    "- in() : 해당키가 dict에 있는지 조사\n",
    "- clear() : key와 value 모두 지우기"
   ]
  },
  {
   "cell_type": "code",
   "execution_count": 130,
   "metadata": {},
   "outputs": [
    {
     "name": "stdout",
     "output_type": "stream",
     "text": [
      "{'name': 'dahee', 'job': 'student', 'age': 23, 'grade': [98, 100, 88]}\n",
      "dahee\n"
     ]
    }
   ],
   "source": [
    "myDic['grade']=[98, 100, 88]\n",
    "print(myDic)"
   ]
  },
  {
   "cell_type": "code",
   "execution_count": 131,
   "metadata": {},
   "outputs": [
    {
     "name": "stdout",
     "output_type": "stream",
     "text": [
      "{'name': 'dahee', 'job': 'student', 'age': 23, 'grade': [100, 0, 0]}\n"
     ]
    }
   ],
   "source": [
    "# 값 수정\n",
    "myDic['grade']=[100, 0, 0]\n",
    "print(myDic)"
   ]
  },
  {
   "cell_type": "code",
   "execution_count": 133,
   "metadata": {},
   "outputs": [
    {
     "data": {
      "text/plain": [
       "{'name': 'dahee', 'job': 'student', 'age': 23, 'grade': [100, 0, 0]}"
      ]
     },
     "execution_count": 133,
     "metadata": {},
     "output_type": "execute_result"
    }
   ],
   "source": [
    "myDic"
   ]
  },
  {
   "cell_type": "code",
   "execution_count": 145,
   "metadata": {},
   "outputs": [
    {
     "name": "stdout",
     "output_type": "stream",
     "text": [
      "dict_keys(['name', 'job', 'age', 'grade'])\n",
      "dict_values(['dahee', 'student', 23, [100, 0, 0]])\n",
      "dict_items([('name', 'dahee'), ('job', 'student'), ('age', 23), ('grade', [100, 0, 0])])\n",
      "student\n",
      "23\n",
      "23\n",
      "True\n",
      "None\n",
      "{}\n"
     ]
    }
   ],
   "source": [
    "print(myDic.keys())\n",
    "print(myDic.values())\n",
    "print(myDic.items())\n",
    "print(myDic.get('job'))\n",
    "print(myDic.get('age'))\n",
    "print(myDic['age'])\n",
    "# 키값이 없다면 get함수에서는 none값을 반환하지만 []로 호출하면 오류==> get을 사용하는게 안전\n",
    "print('grade' in myDic) # 키값이 있는지 없는지 조사하는 논리형\n",
    "print(myDic.clear())\n",
    "print(myDic)"
   ]
  },
  {
   "cell_type": "markdown",
   "metadata": {},
   "source": [
    "## Set (집합자료형)\n",
    "- 순서 X (비순서형 자료형)\n",
    "- 중복 X\n",
    "- set([리스트,...])\n",
    "- set(문자열)"
   ]
  },
  {
   "cell_type": "code",
   "execution_count": 149,
   "metadata": {},
   "outputs": [
    {
     "name": "stdout",
     "output_type": "stream",
     "text": [
      "{1, 2, 3} <class 'set'>\n",
      "{'d', 'i', 'a', 'v'} <class 'set'>\n"
     ]
    }
   ],
   "source": [
    "set1 = set([1,2,3])\n",
    "print(set1,type(set1))\n",
    "\n",
    "set2 = set('david')\n",
    "print(set2,type(set2)) # 중복허용 X --> d가 한번 ~"
   ]
  },
  {
   "cell_type": "markdown",
   "metadata": {},
   "source": [
    "### set의 자료형\n",
    "- 합집합(|), 교집합(&), 차집합(-)\n",
    "- add() : 하나의 값을 추가\n",
    "- update() : 여러개의 값을 추가\n",
    "- remove() : "
   ]
  },
  {
   "cell_type": "code",
   "execution_count": 157,
   "metadata": {},
   "outputs": [
    {
     "name": "stdout",
     "output_type": "stream",
     "text": [
      "{1, 2, 3, 4, 5, 7, 9}\n",
      "{1, 3, 5}\n",
      "{2, 4}\n",
      "{1, 2, 3, 4, 5, 6}\n",
      "{1, 2, 3, 4, 5, 6, 11, 13}\n",
      "{1, 2, 4, 5, 6, 11, 13}\n"
     ]
    }
   ],
   "source": [
    "s1={1, 2, 3, 4, 5}\n",
    "s2={1, 3, 5, 7, 9}\n",
    "\n",
    "print(s1|s2)\n",
    "print(s1&s2)\n",
    "print(s1-s2)\n",
    "\n",
    "s3=set([1, 2, 3, 4, 5])\n",
    "s3.add(6)\n",
    "print(s3)\n",
    "\n",
    "s3.update([11, 13])\n",
    "print(s3)\n",
    "\n",
    "s3.remove(3) # 인덱스 아님!~\n",
    "print(s3)"
   ]
  }
 ],
 "metadata": {
  "kernelspec": {
   "display_name": "Python 3",
   "language": "python",
   "name": "python3"
  },
  "language_info": {
   "codemirror_mode": {
    "name": "ipython",
    "version": 3
   },
   "file_extension": ".py",
   "mimetype": "text/x-python",
   "name": "python",
   "nbconvert_exporter": "python",
   "pygments_lexer": "ipython3",
   "version": "3.10.11"
  }
 },
 "nbformat": 4,
 "nbformat_minor": 2
}
