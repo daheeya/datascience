{
 "cells": [
  {
   "cell_type": "markdown",
   "metadata": {},
   "source": [
    "## function (함수)\n",
    "반복적으로 사용가능한 동작들을 정의한 코드블럭  \n",
    "입력 >> 함수 >> 출력\n",
    "\n",
    "```python\n",
    "def 함수이름(매개변수, , ):\n",
    "    수행할 문장\n",
    "    return 결과 | None\n",
    "```"
   ]
  },
  {
   "cell_type": "markdown",
   "metadata": {},
   "source": [
    "### 디폴트 매개변수\n",
    "def 함수이름(매개변수=디폴트값):\n",
    "    문장\n",
    "    return 결과"
   ]
  },
  {
   "cell_type": "code",
   "execution_count": 1,
   "metadata": {},
   "outputs": [],
   "source": [
    "# add 함수를 정의\n",
    "# x, y는 매개변수\n",
    "x=5\n",
    "def add(x,y):\n",
    "    return x+y\n",
    "\n",
    "z=add(1,2)\n",
    "print(z)\n",
    "\n",
    "# 디폴트 매개변수\n",
    "def add(x,y=3):\n",
    "    return x+y"
   ]
  },
  {
   "cell_type": "code",
   "execution_count": 3,
   "metadata": {},
   "outputs": [
    {
     "name": "stdout",
     "output_type": "stream",
     "text": [
      "100 200 300\n",
      "(110, 220, 330) <class 'tuple'>\n"
     ]
    }
   ],
   "source": [
    "def func_mul(x):\n",
    "    y1=x*10\n",
    "    y2=x*20\n",
    "    y3=x*30\n",
    "    return y1,y2,y3\n",
    "\n",
    "x,y,z=func_mul(10)\n",
    "print(x,y,z)\n",
    "\n",
    "# 튜플로 받기\n",
    "def func_mul(x):\n",
    "    y1=x*10\n",
    "    y2=x*20\n",
    "    y3=x*30\n",
    "    return (y1,y2,y3)\n",
    "t= func_mul(11)\n",
    "print(t, type(t))\n"
   ]
  },
  {
   "cell_type": "markdown",
   "metadata": {},
   "source": [
    "### 가변 매개변수\n",
    "```python\n",
    "def 함수이름(*매개변수):\n",
    "    문장\n",
    "```\n",
    "생성된 가변 매개변수는 리스트처럼 사용이 가능   \n",
    "  \n",
    "<제약조건>  \n",
    "- 가변변수 뒤에는 일반 매개변수, 가변 매개변수가 올 수 없다.\n",
    "- 가변 매개변수는 하나만 사용할 수 있다.  "
   ]
  },
  {
   "cell_type": "code",
   "execution_count": 6,
   "metadata": {},
   "outputs": [
    {
     "name": "stdout",
     "output_type": "stream",
     "text": [
      "나의 카페 메뉴는? \n",
      "코코아\n",
      "캐모마일\n",
      "설녹차\n",
      "에이드\n"
     ]
    }
   ],
   "source": [
    "def menu(*values):\n",
    "    print('나의 카페 메뉴는? ')\n",
    "    for value in values:\n",
    "        print(value)                            # values를 리스트처럼 사용가능하다\n",
    "menu('코코아','캐모마일','설녹차','에이드')\n"
   ]
  },
  {
   "cell_type": "markdown",
   "metadata": {},
   "source": [
    "#### enumerate객체를 리턴 받을 수 있다.  \n",
    "enumerate: 인덱스와 값을 리턴해주는 객체"
   ]
  },
  {
   "cell_type": "code",
   "execution_count": 8,
   "metadata": {},
   "outputs": [
    {
     "name": "stdout",
     "output_type": "stream",
     "text": [
      "나의 카페 메뉴는? \n",
      "0=코코아\n",
      "1=캐모마일\n",
      "2=설녹차\n",
      "3=에이드\n"
     ]
    }
   ],
   "source": [
    "\n",
    "def menu(*values):\n",
    "    print('나의 카페 메뉴는? ')\n",
    "    # enumerate 객체는 iterable 매개변수를 넣으면 index와 value를 리턴\n",
    "    for i, value in enumerate(values):             # enumerate 사용 (인덱스와 값을 리턴)\n",
    "        print(f'{i}={value}')                            # values를 리스트처럼 사용가능하다\n",
    "menu('코코아','캐모마일','설녹차','에이드')"
   ]
  },
  {
   "cell_type": "code",
   "execution_count": 11,
   "metadata": {},
   "outputs": [
    {
     "name": "stdout",
     "output_type": "stream",
     "text": [
      "0=lee\n",
      "0=lee\n",
      "1=park\n",
      "0=lee\n",
      "1=park\n",
      "2=kim\n"
     ]
    }
   ],
   "source": [
    "def args_function(*args):\n",
    "    for i, v in enumerate(args):\n",
    "        print(f'{i}={v}')\n",
    "args_function('lee')\n",
    "args_function('lee','park')\n",
    "args_function('lee','park','kim')"
   ]
  },
  {
   "cell_type": "markdown",
   "metadata": {},
   "source": [
    "### 딕셔너리형 반복\n",
    "```python\n",
    "** kwargs\n",
    "```"
   ]
  },
  {
   "cell_type": "code",
   "execution_count": 14,
   "metadata": {},
   "outputs": [
    {
     "name": "stdout",
     "output_type": "stream",
     "text": [
      "name1=lee\n",
      "name1=lee\n",
      "name2=park\n",
      "name3=kim\n"
     ]
    }
   ],
   "source": [
    "def kwargs_function(**kwargs):\n",
    "    for k in kwargs:\n",
    "        print(f'{k}={kwargs.get(k)}') \n",
    "        # print(f'{k} is {kwargs[k]}')\n",
    "\n",
    "kwargs_function(name1='lee')\n",
    "kwargs_function(name1='lee',name2='park',name3='kim')"
   ]
  },
  {
   "cell_type": "code",
   "execution_count": 16,
   "metadata": {},
   "outputs": [
    {
     "name": "stdout",
     "output_type": "stream",
     "text": [
      "lee ('kim',) {'age': 20}\n",
      "10 20 ('lee', 'kim', 'park') {'age': 20, 'age2': 23}\n"
     ]
    }
   ],
   "source": [
    "def exam1(arg1, *arg2, **kwargs):\n",
    "    print(arg1, arg2, kwargs)\n",
    "exam1('lee', 'kim', age=20)  # 일반 문자열, 튜플형, 딕셔너리형\n",
    "\n",
    "def exam2(arg1, arg2, *arg3, **kwargs):\n",
    "    print(arg1, arg2,arg3,kwargs)\n",
    "exam2(10,20,'lee','kim','park',age=20, age2=23)"
   ]
  },
  {
   "cell_type": "markdown",
   "metadata": {},
   "source": [
    "## 람다식: 즉시실행 함수\n",
    "- 메모리 절약, 가독성 향상, 코드 간결"
   ]
  },
  {
   "cell_type": "code",
   "execution_count": 22,
   "metadata": {},
   "outputs": [
    {
     "name": "stdout",
     "output_type": "stream",
     "text": [
      "12\n",
      "12\n"
     ]
    },
    {
     "data": {
      "text/plain": [
       "500"
      ]
     },
     "execution_count": 22,
     "metadata": {},
     "output_type": "execute_result"
    }
   ],
   "source": [
    "# 일반적인 함수\n",
    "def multiply(x,y):\n",
    "    return x*y\n",
    "print(multiply(3,4))\n",
    "\n",
    "# 람다식 함수\n",
    "la_fun=lambda x,y: x*y\n",
    "print(la_fun(3,4))\n",
    "\n",
    "(lambda x,y: x*y) (50,10)"
   ]
  },
  {
   "cell_type": "code",
   "execution_count": 23,
   "metadata": {},
   "outputs": [
    {
     "name": "stdout",
     "output_type": "stream",
     "text": [
      "30\n",
      "30\n"
     ]
    },
    {
     "data": {
      "text/plain": [
       "30"
      ]
     },
     "execution_count": 23,
     "metadata": {},
     "output_type": "execute_result"
    }
   ],
   "source": [
    "def hap(x,y):\n",
    "    return x+y\n",
    "print(hap(10,20))\n",
    "\n",
    "## 람다식으로 변경\n",
    "la_hap=lambda x,y: x+y\n",
    "print(la_hap(10,20))\n",
    "\n",
    "(lambda x,y: x+y)(10,20)"
   ]
  },
  {
   "cell_type": "code",
   "execution_count": 25,
   "metadata": {},
   "outputs": [
    {
     "data": {
      "text/plain": [
       "[0, 1, 4, 9, 16]"
      ]
     },
     "execution_count": 25,
     "metadata": {},
     "output_type": "execute_result"
    }
   ],
   "source": [
    "# map(함수, 리스트(자료형))\n",
    "# 0~4까지 각각의 제곱근을 리스트로 출력하세요.\n",
    "\n",
    "list(map(lambda x: x**2, range(5)))"
   ]
  },
  {
   "cell_type": "markdown",
   "metadata": {},
   "source": [
    "### reduce(함수, 시퀀스)\n",
    "= 적재"
   ]
  },
  {
   "cell_type": "code",
   "execution_count": 28,
   "metadata": {},
   "outputs": [
    {
     "name": "stdout",
     "output_type": "stream",
     "text": [
      "10\n"
     ]
    },
    {
     "data": {
      "text/plain": [
       "'edcba'"
      ]
     },
     "execution_count": 28,
     "metadata": {},
     "output_type": "execute_result"
    }
   ],
   "source": [
    "# reduce(함수, 시퀀스)\n",
    "# 0부터 4까지 각각 더한 총합을 구하시오.\n",
    "\n",
    "sum=0\n",
    "for i in range(5):\n",
    "    sum+=i\n",
    "print(sum)\n",
    "\n",
    "from functools import reduce\n",
    "reduce(lambda x,y: x+y, [0,1,2,3,4])\n",
    "\n",
    "# abcde\n",
    "reduce(lambda x,y: y+x,'abcde')\n",
    "# 'ba','cba','dcba','edcba'"
   ]
  },
  {
   "cell_type": "markdown",
   "metadata": {},
   "source": [
    "### filter(함수, 리스트) -True, False를 리턴"
   ]
  },
  {
   "cell_type": "code",
   "execution_count": 32,
   "metadata": {},
   "outputs": [
    {
     "name": "stdout",
     "output_type": "stream",
     "text": [
      "[0, 1, 2, 3, 4]\n",
      "[0, 1, 2, 3, 4]\n",
      "[1, 3, 5, 7, 9]\n"
     ]
    }
   ],
   "source": [
    "# 0에서 9까지 5보다 작은 수를 리스트로 출력\n",
    "result=list()\n",
    "for n in range(10):\n",
    "    if(n<5):\n",
    "        result.append(n)\n",
    "print(result)\n",
    "\n",
    "# filter(함수, 리스트) - True, False를 리턴\n",
    "print(list(filter(lambda x:x<5,range(10))))\n",
    "\n",
    "# 홀수를 돌려주는 필터\n",
    "print(list(filter(lambda x: x%2, range(10)))) # x%2==1 안해도 되는 이유: 짝수일 경우엔 0이 반환되고 0은 false"
   ]
  },
  {
   "cell_type": "code",
   "execution_count": 1,
   "metadata": {},
   "outputs": [
    {
     "ename": "TypeError",
     "evalue": "func1() missing 2 required positional arguments: 'upper' and 'lower'",
     "output_type": "error",
     "traceback": [
      "\u001b[1;31m---------------------------------------------------------------------------\u001b[0m",
      "\u001b[1;31mTypeError\u001b[0m                                 Traceback (most recent call last)",
      "Cell \u001b[1;32mIn[1], line 21\u001b[0m\n\u001b[0;32m     19\u001b[0m     \u001b[38;5;28mprint\u001b[39m(\u001b[38;5;124mf\u001b[39m\u001b[38;5;124m'\u001b[39m\u001b[38;5;124m상한: \u001b[39m\u001b[38;5;132;01m{\u001b[39;00mupper\u001b[38;5;132;01m}\u001b[39;00m\u001b[38;5;124m'\u001b[39m)\n\u001b[0;32m     20\u001b[0m     \u001b[38;5;28mprint\u001b[39m(\u001b[38;5;124mf\u001b[39m\u001b[38;5;124m'\u001b[39m\u001b[38;5;124m하한: \u001b[39m\u001b[38;5;132;01m{\u001b[39;00mlower\u001b[38;5;132;01m}\u001b[39;00m\u001b[38;5;124m'\u001b[39m)\n\u001b[1;32m---> 21\u001b[0m \u001b[43mfunc1\u001b[49m\u001b[43m(\u001b[49m\u001b[38;5;28;43minput\u001b[39;49m\u001b[43m(\u001b[49m\u001b[38;5;124;43m'\u001b[39;49m\u001b[38;5;124;43m이름, 상한, 하한입력\u001b[39;49m\u001b[38;5;124;43m'\u001b[39;49m\u001b[43m)\u001b[49m\u001b[43m)\u001b[49m\n\u001b[0;32m     23\u001b[0m \u001b[38;5;28;01mdef\u001b[39;00m \u001b[38;5;21mread\u001b[39m(\u001b[38;5;28mstr\u001b[39m):\n\u001b[0;32m     24\u001b[0m     name,limit\u001b[38;5;241m=\u001b[39m\u001b[38;5;28mmap\u001b[39m(\u001b[38;5;28;01mlambda\u001b[39;00m \u001b[38;5;28mstr\u001b[39m: \u001b[38;5;28mstr\u001b[39m\u001b[38;5;241m.\u001b[39mstrip(),\u001b[38;5;28mstr\u001b[39m\u001b[38;5;241m.\u001b[39mstrip(\u001b[38;5;124m'\u001b[39m\u001b[38;5;124m:\u001b[39m\u001b[38;5;124m'\u001b[39m))\n",
      "\u001b[1;31mTypeError\u001b[0m: func1() missing 2 required positional arguments: 'upper' and 'lower'"
     ]
    }
   ],
   "source": [
    "# 놀이기구에 입장을 한다.\n",
    "# 놀이기구의 이름과 상하한선을 입력받고\n",
    "# 아래와 같이 출력하시오\n",
    "# 사용자 입력을 놀이기구이름과 키의 상하한선을 입력받는다.\n",
    "# ex) ban: 140cm~180cm\n",
    "# ex) ban: 140cm 이상\n",
    "\n",
    "\n",
    "# 조건: 함수활용\n",
    "\n",
    "# 출력>\n",
    "    # 이름: ban\n",
    "    # 하한: 140\n",
    "    # 상한: 180\n",
    "\n",
    "\n",
    "def func1(name,upper,lower):\n",
    "    print(f'이름: {name}')\n",
    "    print(f'상한: {upper}')\n",
    "    print(f'하한: {lower}')\n",
    "func1(input('이름, 상한, 하한입력'))\n",
    "\n",
    "def read(str):\n",
    "    name,limit=map(lambda str: str.strip(),str.split(':'))\n",
    "    if '~' in limit:\n",
    "        h_min, h_max = map(lambda x: int(x.replace('cm','')),limit.split('~'))\n",
    "        return name,h_min,h_max\n",
    "    elif '이상' in limit:\n",
    "        h_min= int(limit.split('이상').replace('cm',''))\n",
    "        h_max=None\n",
    "        return name,h_min,h_max\n",
    "ridename,min_,max_=read('ban: 140cm 이상')\n",
    "print('이름: ',ridename)\n",
    "print('하한: ', min_)\n",
    "print('상한: ', max_)"
   ]
  },
  {
   "cell_type": "code",
   "execution_count": 7,
   "metadata": {},
   "outputs": [
    {
     "name": "stdout",
     "output_type": "stream",
     "text": [
      "이름:  ban\n",
      "하한:  140\n",
      "상한:  180\n"
     ]
    }
   ],
   "source": [
    "# 놀이기구에 입장을 한다.\n",
    "# 놀이기구의 이름과 상하한선을 입력받고\n",
    "# 아래와 같이 출력하시오\n",
    "# 사용자 입력을 놀이기구이름과 키의 상하한선을 입력받는다.\n",
    "# ex) ban: 140cm~180cm\n",
    "# ex) ban: 140cm 이상\n",
    "\n",
    "\n",
    "# 조건: 함수활용\n",
    "\n",
    "# 출력>\n",
    "    # 이름: ban\n",
    "    # 하한: 140\n",
    "    # 상한: 180\n",
    "str1='ban: 140cm~180cm'\n",
    "def func1(str):\n",
    "    name,limit=map(lambda str:str.strip(), str.split(':'))\n",
    "    if '~' in limit:\n",
    "        min_h,max_h=map(lambda x: int(x.replace('cm','')),limit.split('~'))\n",
    "    elif '이상' in limit:\n",
    "        min_h=int(limit.replace('이상',''))\n",
    "        max_h=None\n",
    "    else:\n",
    "        max_h=int(limit.replace('이하',''))\n",
    "        min_h=None\n",
    "    return name, min_h,max_h\n",
    "returnname,returnmin,returnmax=func1(str1)\n",
    "print('이름: ', returnname)\n",
    "print('하한: ', returnmin)\n",
    "print('상한: ', returnmax)\n"
   ]
  },
  {
   "cell_type": "markdown",
   "metadata": {},
   "source": [
    "## OOP(Object Oriented Programming)\n",
    "여러 독립적인 개체를 객체로 명명하고 객체들을 통해서로 협력(상호작용) 하는 것  \n",
    "  \n",
    "  <장점>\n",
    "  - 코드 재사용\n",
    "  - 유지보수 용이\n",
    "  \n",
    "  <특징>\n",
    "  - 실행속도가 상대적으로 느림\n",
    "  - 객체가 많으면 프로그램의 사이즈가 커짐\n",
    "  - 설계 시 많은 시간이 소요됨\n",
    "\n",
    "  <특징>\n",
    "  상속, 캡슐화, 다형성(오버라이딩, 오버로딩)\n",
    "\n",
    "- 각각의 객체: 인스턴스\n",
    "- 객체들의 집합: 클래스\n",
    "```python\n",
    "  class jelly:\n",
    "    pass\n",
    "```"
   ]
  },
  {
   "cell_type": "code",
   "execution_count": 9,
   "metadata": {},
   "outputs": [],
   "source": [
    "class Jelly:\n",
    "    pass"
   ]
  },
  {
   "cell_type": "markdown",
   "metadata": {},
   "source": [
    "**객체와 인스턴스**  \n",
    "실제 그 객체가 가지고 있는 메모리를 참조해서 사용해야 한다.  \n",
    "```python\n",
    "인스턴스=클래스이름()\n",
    "```"
   ]
  },
  {
   "cell_type": "code",
   "execution_count": 10,
   "metadata": {},
   "outputs": [
    {
     "name": "stdout",
     "output_type": "stream",
     "text": [
      "2404305259936 2404305266176 2404305271888\n"
     ]
    }
   ],
   "source": [
    "# red_jelly는 Jelly class의 instance\n",
    "\n",
    "red_jelly=Jelly() # default constructor\n",
    "green_jelly=Jelly()\n",
    "blue_jelly=Jelly()\n",
    "\n",
    "print(id(red_jelly),id(green_jelly),id(blue_jelly))"
   ]
  },
  {
   "cell_type": "markdown",
   "metadata": {},
   "source": [
    "```python\n",
    "class 클래스이름:\n",
    "    # instance화 해서 메소드에 접근할 때\n",
    "    # 파이썬은 객체의 메소드를 정의할 때 self를 명시한다.\n",
    "    # 메소드를 사용할 때 (불러서 사용할 때) self는 자동으로 전달된다.\n",
    "    # self를 사용함으로써 클래스 내의 정의한 멤버(변수)에 접근이 가능하다.\n",
    "    def 메소드이름(self, 매개변수):\n",
    "        pass\n",
    "```"
   ]
  },
  {
   "cell_type": "code",
   "execution_count": 29,
   "metadata": {},
   "outputs": [
    {
     "name": "stdout",
     "output_type": "stream",
     "text": [
      "self_id = 2404303850432\n",
      "==========\n",
      "color = yellow, taste = lemon\n",
      "==========\n",
      "yellow_jelly_id = 2404303850432\n",
      "==========\n",
      "yellow_jelly.color : yellow, BearJelly.color : blue\n"
     ]
    }
   ],
   "source": [
    "class BearJelly:#BrstJelly 클래스\n",
    "    \n",
    "    color = str() #클래스변수\n",
    "\n",
    "    def set_info(self, color, taste): #메소드 self: BearJelly클래스 자신\n",
    "        print(f'self_id = {id(self)}')\n",
    "        self.color=color\n",
    "        self.taste=taste\n",
    "    def print_info(self):\n",
    "        print(\"=\"*10)\n",
    "        print(f'color = {self.color}, taste = {self.taste}')\n",
    "        print(\"=\"*10)\n",
    "    def custom_info():                                                                                                                                                                                                                                                                                                                                                                                        \n",
    "        BearJelly.color='blue'\n",
    "\n",
    "yellow_jelly=BearJelly()\n",
    "yellow_jelly.set_info('yellow','lemon')\n",
    "yellow_jelly.print_info()\n",
    "\n",
    "print(f'yellow_jelly_id = {id(yellow_jelly)}')\n",
    "print(\"=\"*10)\n",
    "BearJelly.custom_info()\n",
    "print(f'yellow_jelly.color : {yellow_jelly.color}, BearJelly.color : {BearJelly.color}')"
   ]
  },
  {
   "cell_type": "markdown",
   "metadata": {},
   "source": [
    "**메소드에 self가 있고 없고에 따라 메모리 저장영역이 다르다.   \n",
    "self가 없는 메소드는 클래스메소드  \n",
    "self가 있는 메소드는 인스턴스메소드**"
   ]
  },
  {
   "cell_type": "markdown",
   "metadata": {},
   "source": [
    "## 생성자 함수\n",
    "- 생성자(constructor)  \n",
    "    클래스로부터 인스턴스가 생성될 때 자동으로 실행하는 함수  \n",
    "    클래스가 실행되면 가장 먼저 생성자인 '__init__' 함수가 호출\n",
    "```python\n",
    "\n",
    "    class 클래스이름:\n",
    "        def __init__(self, 추가적인 매개변수):\n",
    "            pass\n",
    "```"
   ]
  },
  {
   "cell_type": "code",
   "execution_count": 27,
   "metadata": {},
   "outputs": [
    {
     "name": "stdout",
     "output_type": "stream",
     "text": [
      "yellow good\n",
      "blue cool\n",
      "red hot\n"
     ]
    }
   ],
   "source": [
    "class BearJelly:\n",
    "    def __init__(self, color,taste):\n",
    "        self.color=color\n",
    "        self.taste=taste\n",
    "\n",
    "jelly_list=[\n",
    "    BearJelly('yellow','good'),\n",
    "    BearJelly('blue','cool'),\n",
    "    BearJelly('red','hot')\n",
    "]\n",
    "\n",
    "print(jelly_list[0].color, jelly_list[0].taste)\n",
    "print(jelly_list[1].color, jelly_list[1].taste)\n",
    "print(jelly_list[2].color, jelly_list[2].taste)"
   ]
  },
  {
   "cell_type": "markdown",
   "metadata": {},
   "source": [
    "## 상속\n",
    "- 부모와 자식관계에서 자식은 부모의 재산을 상속할 수 없다.\n",
    "- 상위 클래스(= parent class, super class)\n",
    "- 하위 클래스(= child class, sub class)\n",
    "\n",
    "#### 이유\n",
    "- 기존 클래스를 변경하지 않고 기능 추가\n",
    "- 공통기능을 상위 클래스에서 구현하고 하위 클래스에서 자신의 기능만 구현해서 유지보수 및 기능개발에 편리\n",
    "\n",
    "### 상속의 선언\n",
    "- 자식클래스를 선언할 때 소괄호()로 부모클래스를 명기\n",
    "- 부모클래스의 속성과 메소드(함수)는 자식클래스에서 자동으로 포함\n",
    "\n",
    "### 메소드 오버라이딩\n",
    "- 부모클래스의 메소드를 자식클래스에서 재정의 하는 것\n",
    "\n",
    "### 부모 메소드 호출\n",
    "- super() 키워드를 사용"
   ]
  },
  {
   "cell_type": "code",
   "execution_count": 39,
   "metadata": {},
   "outputs": [],
   "source": [
    "class Jelly:\n",
    "    def __init__(self, color, taste):\n",
    "        self.color=color\n",
    "        self.taste=taste\n",
    "    \n",
    "    def set_price(self, price):\n",
    "        self.price=price\n",
    "\n",
    "    # class의 정보 출력 함수\n",
    "    def __str__(self):\n",
    "        return f'Jelly Parent class의 가격은 {self.price}, 색은 {self.color}, 맛은 {self.taste}입니다.'"
   ]
  },
  {
   "cell_type": "code",
   "execution_count": 42,
   "metadata": {},
   "outputs": [],
   "source": [
    "class RedJelly(Jelly):\n",
    "    def set_price(self, price):\n",
    "        print('RedJelly Child class set_price 함수 입니다.')\n",
    "        super().set_price(price)\n",
    "        self.price=price\n",
    "    \n",
    "    def print_info(self):\n",
    "        print(f'Parent class info = {super().__str__()}')\n",
    "        print(f'RedJelly의 색: {self.color}, 맛: {self.taste}, 가격: {self.price}')"
   ]
  },
  {
   "cell_type": "code",
   "execution_count": 43,
   "metadata": {},
   "outputs": [
    {
     "name": "stdout",
     "output_type": "stream",
     "text": [
      "RedJelly Child class set_price 함수 입니다.\n",
      "Parent class info = Jelly Parent class의 가격은 100, 색은 red, 맛은 hot입니다.\n",
      "RedJelly의 색: red, 맛: hot, 가격: 100\n"
     ]
    }
   ],
   "source": [
    "red_jelly=RedJelly('red','hot') #부모함수의 파라미터도 맞춰줘야함!\n",
    "red_jelly.set_price(100)\n",
    "red_jelly.print_info()"
   ]
  },
  {
   "cell_type": "markdown",
   "metadata": {},
   "source": [
    "### Q.1  \n",
    "아이폰과 안드로이드가 있다.   \n",
    "둘 다 스마트폰이다.  \n",
    "두 개의 기종 모두 브랜드와 제조사를 가지고 있으며  \n",
    "안드로이드는 마이크로 USB를 통해 Charge가 가능하고 아이폰은 라이트닝케이블을 통해 충전이 가능하다.  \n",
    "  \n",
    "아이폰과 안드로이드 객체를 생성하고  \n",
    "충전가능하도록 코딩하시오.  \n"
   ]
  },
  {
   "cell_type": "code",
   "execution_count": 47,
   "metadata": {},
   "outputs": [],
   "source": [
    "class smartphone:\n",
    "    def __init__(self,brand,manu):\n",
    "        self.brand=brand\n",
    "        self.manu=manu\n",
    "    def set_charge(self,charge):\n",
    "        self.charge=charge\n",
    "    def __str__(self):\n",
    "        return f'{self.brand}, {self.manu}'\n",
    "    \n",
    "class charge_smartphone(smartphone):\n",
    "    def set_charge(self, charge):\n",
    "        super().set_charge(charge)\n",
    "        self.set_charge=charge\n",
    "        print(f'기종: {self.brand}, 제조사: {self.manu}, 충전방식: {self.set_charge}')\n",
    "\n",
    "android_phone=charge_smartphone('android','samsung')\n",
    "android_phone.set_charge('micro USB')\n",
    "\n",
    "iphone=charge_smartphone('iphone','apple')\n",
    "iphone.set_charge('lightning')"
   ]
  },
  {
   "cell_type": "code",
   "execution_count": 58,
   "metadata": {},
   "outputs": [
    {
     "name": "stdout",
     "output_type": "stream",
     "text": [
      "충전 케이블은 Micro USB입니다.\n",
      "충전 케이블은 lightning입니다.\n"
     ]
    }
   ],
   "source": [
    "class Smartphone:\n",
    "    def __init__(self,brand,information):\n",
    "        self.brand=brand\n",
    "        self.information=information\n",
    "    def __str__(self):\n",
    "        return f'{self.brand}, {self.information}'\n",
    "    \n",
    "    def charge(self,cable):\n",
    "        print(cable)\n",
    "    \n",
    "class cable:\n",
    "    def __init__(self, name):\n",
    "        self.name=name\n",
    "    def __str__(self):\n",
    "        return f'충전 케이블은 {self.name}입니다.'\n",
    "    \n",
    "class Android(Smartphone):\n",
    "    def get_info(self):\n",
    "        return super().__str__()\n",
    "\n",
    "class IPhone(Smartphone):\n",
    "    def get_info(self):\n",
    "        return super().__str__()\n",
    "\n",
    "\n",
    "android=Android('galaxy',{'manufacture':'samsung','price':1000})\n",
    "android.get_info()\n",
    "android.charge(cable('Micro USB'))\n",
    "\n",
    "iphone=IPhone('iphone',{'manufacture':'apple','price':5000})\n",
    "android.get_info()\n",
    "android.charge(cable('lightning'))"
   ]
  },
  {
   "cell_type": "markdown",
   "metadata": {},
   "source": [
    "  \n",
    "### Q.2\n",
    "연필과 지우개가 있다.  \n",
    "둘 다 기본적으로 가격과 상품이름을 가지고 있으며  \n",
    "연필은 패키지개수가 12개, 지우개는 5개가 존재한다.  \n",
    "각각 package가격을 출력해보자."
   ]
  },
  {
   "cell_type": "code",
   "execution_count": 71,
   "metadata": {},
   "outputs": [
    {
     "name": "stdout",
     "output_type": "stream",
     "text": [
      "모나미의 패키지 가격은 6000입니다.\n",
      "모나미의 패키지 가격은 2500입니다.\n"
     ]
    }
   ],
   "source": [
    "class info:\n",
    "    def __init__(self, name):\n",
    "        self.name=name\n",
    "    def commonFun():\n",
    "        pass\n",
    "    \n",
    "\n",
    "class pencil(info):\n",
    "    def __init__(self, name, price):\n",
    "        super().__init__(name)\n",
    "        self.price=price\n",
    "\n",
    "    def package_price(self):\n",
    "        self.pack_price=self.price * 12\n",
    "\n",
    "    def __str__(self):\n",
    "        return f'{self.name}의 패키지 가격은 {self.pack_price}입니다.'\n",
    "    \n",
    "class eraser(info):\n",
    "    def __init__(self, name, price):\n",
    "        super().__init__(name)\n",
    "        self.price=price\n",
    "\n",
    "    def package_price(self):\n",
    "        self.pack_price=self.price * 5\n",
    "\n",
    "    def __str__(self):\n",
    "        return f'{self.name}의 패키지 가격은 {self.pack_price}입니다.'\n",
    "    \n",
    "pencil=pencil('모나미',500)\n",
    "pencil.package_price()\n",
    "print(pencil)\n",
    "eraser=eraser('모나미',500)\n",
    "eraser.package_price()\n",
    "print(eraser)\n"
   ]
  },
  {
   "cell_type": "markdown",
   "metadata": {},
   "source": [
    "### Q.3\n",
    "공통의 생명력 1000이 있다.  \n",
    "기본적으로 공격당하면 10의 에너지가 소모된다.  \n",
    "전사와 마법사는 공격을 당하면  \n",
    "각각 15, 5의 생명이 추가적으로 소모된다.  \n",
    "  \n",
    "각각의 캐릭터별로 공격을 여러번 당했을 때  \n",
    "남은 생명력을 출력하는 예제를 객체를 통해 구현해보자."
   ]
  },
  {
   "cell_type": "code",
   "execution_count": 79,
   "metadata": {},
   "outputs": [],
   "source": [
    "class charactor:\n",
    "\n",
    "    hp=1000\n",
    "    def __init__(self):\n",
    "        pass\n",
    "\n",
    "    def damaged(self,damage,name):\n",
    "        charactor.hp-=(10+self.damaged)\n",
    "        \n",
    "        if charactor.hp<0:\n",
    "            print(f'{name} 죽음')\n",
    "        else:\n",
    "            print(f'{name} 공격받음, 생명력= {charactor.hp}')\n",
    "        \n",
    "    def print_hp(self):\n",
    "        return f'생명력: {charactor.hp}'\n",
    "        pass\n",
    "    \n",
    "class warrior(charactor):\n",
    "    def __init__(self,name):\n",
    "        super().__init__()      # 상속을 받았을 땐 부모도 호출해주는게 안전\n",
    "        self.name=name\n",
    "        self.damaged=15\n",
    "\n",
    "    def w_damaged(self):\n",
    "        return super().damaged(self.damaged,self.name)\n",
    "    \n",
    "class wizard(charactor):\n",
    "    def __init__(self,name):\n",
    "        super().__init__()\n",
    "        self.damaged=5\n",
    "        self.name=name\n",
    "\n",
    "    def w_damaged(self):\n",
    "        return super().damaged(self.damaged,self.name)\n"
   ]
  },
  {
   "cell_type": "code",
   "execution_count": 83,
   "metadata": {},
   "outputs": [
    {
     "name": "stdout",
     "output_type": "stream",
     "text": [
      "전사1 공격받음, 생명력= 855\n",
      "마법사1 공격받음, 생명력= 840\n"
     ]
    }
   ],
   "source": [
    "\n",
    "warrior1=warrior('전사1')\n",
    "warrior1.w_damaged()\n",
    "\n",
    "wizard1=wizard('마법사1')\n",
    "wizard1.w_damaged()"
   ]
  }
 ],
 "metadata": {
  "kernelspec": {
   "display_name": "Python 3",
   "language": "python",
   "name": "python3"
  },
  "language_info": {
   "codemirror_mode": {
    "name": "ipython",
    "version": 3
   },
   "file_extension": ".py",
   "mimetype": "text/x-python",
   "name": "python",
   "nbconvert_exporter": "python",
   "pygments_lexer": "ipython3",
   "version": "3.12.1"
  }
 },
 "nbformat": 4,
 "nbformat_minor": 2
}
